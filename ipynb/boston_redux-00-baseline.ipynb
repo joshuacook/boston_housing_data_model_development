{
 "cells": [
  {
   "cell_type": "code",
   "execution_count": 1,
   "metadata": {},
   "outputs": [
    {
     "name": "stdout",
     "output_type": "stream",
     "text": [
      "/home/jovyan\n"
     ]
    }
   ],
   "source": [
    "cd .."
   ]
  },
  {
   "cell_type": "code",
   "execution_count": 2,
   "metadata": {},
   "outputs": [],
   "source": [
    "import matplotlib.pyplot as plt\n",
    "%matplotlib inline\n",
    "import lib.lm as lm\n",
    "from lib.preprocessing import BoxCoxTransformer\n",
    "import numpy as np\n",
    "import pandas as pd\n",
    "import seaborn as sns\n",
    "from tqdm import tqdm\n",
    "from sklearn.datasets import load_boston\n",
    "from sklearn.linear_model import LinearRegression, Lasso, Ridge\n",
    "from sklearn.pipeline import make_pipeline\n",
    "from sklearn.preprocessing import StandardScaler\n",
    "from sklearn.exceptions import ConvergenceWarning"
   ]
  },
  {
   "cell_type": "code",
   "execution_count": 3,
   "metadata": {},
   "outputs": [],
   "source": [
    "import warnings\n",
    "warnings.filterwarnings(\"ignore\", category=RuntimeWarning)\n",
    "warnings.filterwarnings(\"ignore\", category=ConvergenceWarning)"
   ]
  },
  {
   "cell_type": "code",
   "execution_count": 4,
   "metadata": {},
   "outputs": [],
   "source": [
    "boston = load_boston()"
   ]
  },
  {
   "cell_type": "code",
   "execution_count": 5,
   "metadata": {},
   "outputs": [],
   "source": [
    "X = pd.DataFrame(boston.data, columns=boston.feature_names)"
   ]
  },
  {
   "cell_type": "code",
   "execution_count": 6,
   "metadata": {},
   "outputs": [],
   "source": [
    "y = boston.target"
   ]
  },
  {
   "cell_type": "code",
   "execution_count": 7,
   "metadata": {},
   "outputs": [
    {
     "data": {
      "text/html": [
       "<div>\n",
       "<table border=\"1\" class=\"dataframe\">\n",
       "  <thead>\n",
       "    <tr style=\"text-align: right;\">\n",
       "      <th></th>\n",
       "      <th>CRIM</th>\n",
       "      <th>ZN</th>\n",
       "      <th>INDUS</th>\n",
       "      <th>CHAS</th>\n",
       "      <th>NOX</th>\n",
       "      <th>RM</th>\n",
       "      <th>AGE</th>\n",
       "      <th>DIS</th>\n",
       "      <th>RAD</th>\n",
       "      <th>TAX</th>\n",
       "      <th>PTRATIO</th>\n",
       "      <th>B</th>\n",
       "      <th>LSTAT</th>\n",
       "    </tr>\n",
       "  </thead>\n",
       "  <tbody>\n",
       "    <tr>\n",
       "      <th>415</th>\n",
       "      <td>18.08460</td>\n",
       "      <td>0.0</td>\n",
       "      <td>18.10</td>\n",
       "      <td>0.0</td>\n",
       "      <td>0.679</td>\n",
       "      <td>6.434</td>\n",
       "      <td>100.0</td>\n",
       "      <td>1.8347</td>\n",
       "      <td>24.0</td>\n",
       "      <td>666.0</td>\n",
       "      <td>20.2</td>\n",
       "      <td>27.25</td>\n",
       "      <td>29.05</td>\n",
       "    </tr>\n",
       "    <tr>\n",
       "      <th>144</th>\n",
       "      <td>2.77974</td>\n",
       "      <td>0.0</td>\n",
       "      <td>19.58</td>\n",
       "      <td>0.0</td>\n",
       "      <td>0.871</td>\n",
       "      <td>4.903</td>\n",
       "      <td>97.8</td>\n",
       "      <td>1.3459</td>\n",
       "      <td>5.0</td>\n",
       "      <td>403.0</td>\n",
       "      <td>14.7</td>\n",
       "      <td>396.90</td>\n",
       "      <td>29.29</td>\n",
       "    </tr>\n",
       "    <tr>\n",
       "      <th>503</th>\n",
       "      <td>0.06076</td>\n",
       "      <td>0.0</td>\n",
       "      <td>11.93</td>\n",
       "      <td>0.0</td>\n",
       "      <td>0.573</td>\n",
       "      <td>6.976</td>\n",
       "      <td>91.0</td>\n",
       "      <td>2.1675</td>\n",
       "      <td>1.0</td>\n",
       "      <td>273.0</td>\n",
       "      <td>21.0</td>\n",
       "      <td>396.90</td>\n",
       "      <td>5.64</td>\n",
       "    </tr>\n",
       "    <tr>\n",
       "      <th>39</th>\n",
       "      <td>0.02763</td>\n",
       "      <td>75.0</td>\n",
       "      <td>2.95</td>\n",
       "      <td>0.0</td>\n",
       "      <td>0.428</td>\n",
       "      <td>6.595</td>\n",
       "      <td>21.8</td>\n",
       "      <td>5.4011</td>\n",
       "      <td>3.0</td>\n",
       "      <td>252.0</td>\n",
       "      <td>18.3</td>\n",
       "      <td>395.63</td>\n",
       "      <td>4.32</td>\n",
       "    </tr>\n",
       "  </tbody>\n",
       "</table>\n",
       "</div>"
      ],
      "text/plain": [
       "         CRIM    ZN  INDUS  CHAS    NOX     RM    AGE     DIS   RAD    TAX  \\\n",
       "415  18.08460   0.0  18.10   0.0  0.679  6.434  100.0  1.8347  24.0  666.0   \n",
       "144   2.77974   0.0  19.58   0.0  0.871  4.903   97.8  1.3459   5.0  403.0   \n",
       "503   0.06076   0.0  11.93   0.0  0.573  6.976   91.0  2.1675   1.0  273.0   \n",
       "39    0.02763  75.0   2.95   0.0  0.428  6.595   21.8  5.4011   3.0  252.0   \n",
       "\n",
       "     PTRATIO       B  LSTAT  \n",
       "415     20.2   27.25  29.05  \n",
       "144     14.7  396.90  29.29  \n",
       "503     21.0  396.90   5.64  \n",
       "39      18.3  395.63   4.32  "
      ]
     },
     "execution_count": 7,
     "metadata": {},
     "output_type": "execute_result"
    }
   ],
   "source": [
    "X.sample(4)"
   ]
  },
  {
   "cell_type": "markdown",
   "metadata": {},
   "source": [
    "## Baseline Model\n",
    "\n",
    "Prior to any feature engineering, we will fit a baseline model using Ridge and Lasso Regressions with some regularization."
   ]
  },
  {
   "cell_type": "code",
   "execution_count": 8,
   "metadata": {},
   "outputs": [],
   "source": [
    "results = pd.DataFrame()"
   ]
  },
  {
   "cell_type": "code",
   "execution_count": 9,
   "metadata": {},
   "outputs": [
    {
     "name": "stderr",
     "output_type": "stream",
     "text": [
      "100%|██████████| 1000/1000 [00:02<00:00, 358.14it/s]\n"
     ]
    }
   ],
   "source": [
    "results, _, _ = \\\n",
    "    lm.simple_alpha_grid_search(make_pipeline(LinearRegression()), X, y, results, n=1000)"
   ]
  },
  {
   "cell_type": "code",
   "execution_count": 10,
   "metadata": {
    "scrolled": true
   },
   "outputs": [
    {
     "data": {
      "text/html": [
       "<div>\n",
       "<table border=\"1\" class=\"dataframe\">\n",
       "  <thead>\n",
       "    <tr style=\"text-align: right;\">\n",
       "      <th></th>\n",
       "      <th>alpha</th>\n",
       "      <th>data_preprocessing</th>\n",
       "      <th>model</th>\n",
       "      <th>model_name</th>\n",
       "      <th>test_score</th>\n",
       "      <th>train_score</th>\n",
       "    </tr>\n",
       "  </thead>\n",
       "  <tbody>\n",
       "    <tr>\n",
       "      <th>0</th>\n",
       "      <td>NaN</td>\n",
       "      <td>[]</td>\n",
       "      <td>Pipeline(steps=[('linearregression', LinearReg...</td>\n",
       "      <td>linearregression</td>\n",
       "      <td>0.711009</td>\n",
       "      <td>0.743956</td>\n",
       "    </tr>\n",
       "  </tbody>\n",
       "</table>\n",
       "</div>"
      ],
      "text/plain": [
       "   alpha data_preprocessing  \\\n",
       "0    NaN                 []   \n",
       "\n",
       "                                               model        model_name  \\\n",
       "0  Pipeline(steps=[('linearregression', LinearReg...  linearregression   \n",
       "\n",
       "   test_score  train_score  \n",
       "0    0.711009     0.743956  "
      ]
     },
     "execution_count": 10,
     "metadata": {},
     "output_type": "execute_result"
    }
   ],
   "source": [
    "results"
   ]
  },
  {
   "cell_type": "code",
   "execution_count": 11,
   "metadata": {},
   "outputs": [
    {
     "name": "stderr",
     "output_type": "stream",
     "text": [
      "100%|██████████| 1000/1000 [00:03<00:00, 331.33it/s]\n",
      "100%|██████████| 1000/1000 [00:02<00:00, 368.93it/s]\n",
      "100%|██████████| 1000/1000 [00:02<00:00, 387.35it/s]\n",
      "100%|██████████| 1000/1000 [00:03<00:00, 321.48it/s]\n",
      "100%|██████████| 1000/1000 [00:03<00:00, 263.79it/s]\n",
      "100%|██████████| 1000/1000 [00:03<00:00, 280.33it/s]\n",
      "100%|██████████| 1000/1000 [00:02<00:00, 375.59it/s]\n",
      "100%|██████████| 1000/1000 [00:02<00:00, 334.30it/s]\n",
      "100%|██████████| 1000/1000 [00:02<00:00, 382.17it/s]\n",
      "100%|██████████| 1000/1000 [00:02<00:00, 397.33it/s]\n",
      "100%|██████████| 1000/1000 [00:02<00:00, 406.01it/s]\n",
      "100%|██████████| 1000/1000 [00:03<00:00, 325.18it/s]\n"
     ]
    }
   ],
   "source": [
    "results, train_scores, test_scores = \\\n",
    "    lm.simple_alpha_grid_search(make_pipeline(Lasso()), X, y, results, n=1000)"
   ]
  },
  {
   "cell_type": "code",
   "execution_count": 12,
   "metadata": {},
   "outputs": [
    {
     "data": {
      "text/plain": [
       "<matplotlib.legend.Legend at 0x7f0e700a7fd0>"
      ]
     },
     "execution_count": 12,
     "metadata": {},
     "output_type": "execute_result"
    },
    {
     "data": {
      "image/png": "[encoded data removed]",
      "text/plain": [
       "<matplotlib.figure.Figure at 0x7f0e71be0518>"
      ]
     },
     "metadata": {},
     "output_type": "display_data"
    }
   ],
   "source": [
    "plt.plot(np.logspace(-5,5,11), test_scores, label='test score')\n",
    "plt.plot(np.logspace(-5,5,11), train_scores, label='train score')\n",
    "plt.xscale('log')\n",
    "plt.legend()"
   ]
  },
  {
   "cell_type": "code",
   "execution_count": 13,
   "metadata": {},
   "outputs": [
    {
     "data": {
      "text/html": [
       "<div>\n",
       "<table border=\"1\" class=\"dataframe\">\n",
       "  <thead>\n",
       "    <tr style=\"text-align: right;\">\n",
       "      <th></th>\n",
       "      <th>alpha</th>\n",
       "      <th>data_preprocessing</th>\n",
       "      <th>model</th>\n",
       "      <th>model_name</th>\n",
       "      <th>test_score</th>\n",
       "      <th>train_score</th>\n",
       "    </tr>\n",
       "  </thead>\n",
       "  <tbody>\n",
       "    <tr>\n",
       "      <th>0</th>\n",
       "      <td>NaN</td>\n",
       "      <td>[]</td>\n",
       "      <td>Pipeline(steps=[('linearregression', LinearReg...</td>\n",
       "      <td>linearregression</td>\n",
       "      <td>0.711009</td>\n",
       "      <td>0.743956</td>\n",
       "    </tr>\n",
       "    <tr>\n",
       "      <th>0</th>\n",
       "      <td>0.00001</td>\n",
       "      <td>[]</td>\n",
       "      <td>Pipeline(steps=[('lasso', Lasso(alpha=1.000000...</td>\n",
       "      <td>lasso</td>\n",
       "      <td>0.711009</td>\n",
       "      <td>0.743956</td>\n",
       "    </tr>\n",
       "  </tbody>\n",
       "</table>\n",
       "</div>"
      ],
      "text/plain": [
       "     alpha data_preprocessing  \\\n",
       "0      NaN                 []   \n",
       "0  0.00001                 []   \n",
       "\n",
       "                                               model        model_name  \\\n",
       "0  Pipeline(steps=[('linearregression', LinearReg...  linearregression   \n",
       "0  Pipeline(steps=[('lasso', Lasso(alpha=1.000000...             lasso   \n",
       "\n",
       "   test_score  train_score  \n",
       "0    0.711009     0.743956  \n",
       "0    0.711009     0.743956  "
      ]
     },
     "execution_count": 13,
     "metadata": {},
     "output_type": "execute_result"
    }
   ],
   "source": [
    "results"
   ]
  },
  {
   "cell_type": "code",
   "execution_count": 14,
   "metadata": {},
   "outputs": [
    {
     "name": "stderr",
     "output_type": "stream",
     "text": [
      "100%|██████████| 1000/1000 [00:03<00:00, 250.47it/s]\n",
      "100%|██████████| 1000/1000 [00:04<00:00, 218.20it/s]\n",
      "100%|██████████| 1000/1000 [00:03<00:00, 275.78it/s]\n",
      "100%|██████████| 1000/1000 [00:02<00:00, 345.75it/s]\n",
      "100%|██████████| 1000/1000 [00:02<00:00, 364.84it/s]\n",
      "100%|██████████| 1000/1000 [00:02<00:00, 367.91it/s]\n",
      "100%|██████████| 1000/1000 [00:03<00:00, 293.47it/s]\n",
      "100%|██████████| 1000/1000 [00:02<00:00, 368.22it/s]\n",
      "100%|██████████| 1000/1000 [00:02<00:00, 368.97it/s]\n",
      "100%|██████████| 1000/1000 [00:02<00:00, 362.60it/s]\n",
      "100%|██████████| 1000/1000 [00:02<00:00, 354.34it/s]\n",
      "100%|██████████| 1000/1000 [00:02<00:00, 357.49it/s]\n"
     ]
    }
   ],
   "source": [
    "results, train_scores, test_scores = \\\n",
    "    lm.simple_alpha_grid_search(make_pipeline(Ridge()), X, y, results, n=1000)"
   ]
  },
  {
   "cell_type": "code",
   "execution_count": 15,
   "metadata": {},
   "outputs": [
    {
     "data": {
      "text/plain": [
       "<matplotlib.legend.Legend at 0x7f0e606bea90>"
      ]
     },
     "execution_count": 15,
     "metadata": {},
     "output_type": "execute_result"
    },
    {
     "data": {
      "image/png": "[encoded data removed]",
      "text/plain": [
       "<matplotlib.figure.Figure at 0x7f0e6079cf60>"
      ]
     },
     "metadata": {},
     "output_type": "display_data"
    }
   ],
   "source": [
    "plt.plot(np.logspace(-5,5,11), test_scores, label='test score')\n",
    "plt.plot(np.logspace(-5,5,11), train_scores, label='train score')\n",
    "plt.xscale('log')\n",
    "plt.legend()"
   ]
  },
  {
   "cell_type": "code",
   "execution_count": 16,
   "metadata": {},
   "outputs": [
    {
     "data": {
      "text/html": [
       "<div>\n",
       "<table border=\"1\" class=\"dataframe\">\n",
       "  <thead>\n",
       "    <tr style=\"text-align: right;\">\n",
       "      <th></th>\n",
       "      <th>alpha</th>\n",
       "      <th>data_preprocessing</th>\n",
       "      <th>model</th>\n",
       "      <th>model_name</th>\n",
       "      <th>test_score</th>\n",
       "      <th>train_score</th>\n",
       "    </tr>\n",
       "  </thead>\n",
       "  <tbody>\n",
       "    <tr>\n",
       "      <th>0</th>\n",
       "      <td>NaN</td>\n",
       "      <td>[]</td>\n",
       "      <td>Pipeline(steps=[('linearregression', LinearReg...</td>\n",
       "      <td>linearregression</td>\n",
       "      <td>0.711009</td>\n",
       "      <td>0.743956</td>\n",
       "    </tr>\n",
       "    <tr>\n",
       "      <th>0</th>\n",
       "      <td>0.00001</td>\n",
       "      <td>[]</td>\n",
       "      <td>Pipeline(steps=[('lasso', Lasso(alpha=1.000000...</td>\n",
       "      <td>lasso</td>\n",
       "      <td>0.711009</td>\n",
       "      <td>0.743956</td>\n",
       "    </tr>\n",
       "    <tr>\n",
       "      <th>0</th>\n",
       "      <td>0.01000</td>\n",
       "      <td>[]</td>\n",
       "      <td>Pipeline(steps=[('ridge', Ridge(alpha=0.01, co...</td>\n",
       "      <td>ridge</td>\n",
       "      <td>0.711016</td>\n",
       "      <td>0.743956</td>\n",
       "    </tr>\n",
       "  </tbody>\n",
       "</table>\n",
       "</div>"
      ],
      "text/plain": [
       "     alpha data_preprocessing  \\\n",
       "0      NaN                 []   \n",
       "0  0.00001                 []   \n",
       "0  0.01000                 []   \n",
       "\n",
       "                                               model        model_name  \\\n",
       "0  Pipeline(steps=[('linearregression', LinearReg...  linearregression   \n",
       "0  Pipeline(steps=[('lasso', Lasso(alpha=1.000000...             lasso   \n",
       "0  Pipeline(steps=[('ridge', Ridge(alpha=0.01, co...             ridge   \n",
       "\n",
       "   test_score  train_score  \n",
       "0    0.711009     0.743956  \n",
       "0    0.711009     0.743956  \n",
       "0    0.711016     0.743956  "
      ]
     },
     "execution_count": 16,
     "metadata": {},
     "output_type": "execute_result"
    }
   ],
   "source": [
    "results"
   ]
  }
 ],
 "metadata": {
  "kernelspec": {
   "display_name": "Python 3",
   "language": "python",
   "name": "python3"
  },
  "language_info": {
   "codemirror_mode": {
    "name": "ipython",
    "version": 3
   },
   "file_extension": ".py",
   "mimetype": "text/x-python",
   "name": "python",
   "nbconvert_exporter": "python",
   "pygments_lexer": "ipython3",
   "version": "3.6.2"
  }
 },
 "nbformat": 4,
 "nbformat_minor": 2
}
