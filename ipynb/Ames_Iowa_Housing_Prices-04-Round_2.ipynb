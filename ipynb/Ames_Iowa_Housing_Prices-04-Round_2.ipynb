{
 "cells": [
  {
   "cell_type": "code",
   "execution_count": 1,
   "metadata": {},
   "outputs": [
    {
     "name": "stdout",
     "output_type": "stream",
     "text": [
      "/home/jovyan/portfolio/ames_housing_data_model_development\n"
     ]
    }
   ],
   "source": [
    "cd .."
   ]
  },
  {
   "cell_type": "code",
   "execution_count": 2,
   "metadata": {
    "collapsed": true
   },
   "outputs": [],
   "source": [
    "import numpy as np\n",
    "import matplotlib.pyplot as plt\n",
    "import pandas as pd\n",
    "import seaborn as sns\n",
    "from sklearn.tree import DecisionTreeRegressor\n",
    "import lib.eda as eda\n",
    "%matplotlib inline\n"
   ]
  },
  {
   "cell_type": "markdown",
   "metadata": {},
   "source": [
    "# Impute NaNs"
   ]
  },
  {
   "cell_type": "code",
   "execution_count": 3,
   "metadata": {
    "collapsed": true
   },
   "outputs": [],
   "source": [
    "ames_train_df = pd.read_csv('data/train.csv')\n",
    "ames_test_df = pd.read_csv('data/test.csv')"
   ]
  },
  {
   "cell_type": "code",
   "execution_count": 6,
   "metadata": {},
   "outputs": [
    {
     "name": "stdout",
     "output_type": "stream",
     "text": [
      "Id                   int64\n",
      "MSSubClass           int64\n",
      "MSZoning             object\n",
      "LotFrontage          float64\n",
      "LotArea              int64\n",
      "Street               object\n",
      "Alley                object\n",
      "LotShape             object\n",
      "LandContour          object\n",
      "Utilities            object\n",
      "LotConfig            object\n",
      "LandSlope            object\n",
      "Neighborhood         object\n",
      "Condition1           object\n",
      "Condition2           object\n",
      "BldgType             object\n",
      "HouseStyle           object\n",
      "OverallQual          int64\n",
      "OverallCond          int64\n",
      "YearBuilt            int64\n",
      "YearRemodAdd         int64\n",
      "RoofStyle            object\n",
      "RoofMatl             object\n",
      "Exterior1st          object\n",
      "Exterior2nd          object\n",
      "MasVnrType           object\n",
      "MasVnrArea           float64\n",
      "ExterQual            object\n",
      "ExterCond            object\n",
      "Foundation           object\n",
      "BsmtQual             object\n",
      "BsmtCond             object\n",
      "BsmtExposure         object\n",
      "BsmtFinType1         object\n",
      "BsmtFinSF1           int64\n",
      "BsmtFinType2         object\n",
      "BsmtFinSF2           int64\n",
      "BsmtUnfSF            int64\n",
      "TotalBsmtSF          int64\n",
      "Heating              object\n",
      "HeatingQC            object\n",
      "CentralAir           object\n",
      "Electrical           object\n",
      "1stFlrSF             int64\n",
      "2ndFlrSF             int64\n",
      "LowQualFinSF         int64\n",
      "GrLivArea            int64\n",
      "BsmtFullBath         int64\n",
      "BsmtHalfBath         int64\n",
      "FullBath             int64\n",
      "HalfBath             int64\n",
      "BedroomAbvGr         int64\n",
      "KitchenAbvGr         int64\n",
      "KitchenQual          object\n",
      "TotRmsAbvGrd         int64\n",
      "Functional           object\n",
      "Fireplaces           int64\n",
      "FireplaceQu          object\n",
      "GarageType           object\n",
      "GarageYrBlt          float64\n",
      "GarageFinish         object\n",
      "GarageCars           int64\n",
      "GarageArea           int64\n",
      "GarageQual           object\n",
      "GarageCond           object\n",
      "PavedDrive           object\n",
      "WoodDeckSF           int64\n",
      "OpenPorchSF          int64\n",
      "EnclosedPorch        int64\n",
      "3SsnPorch            int64\n",
      "ScreenPorch          int64\n",
      "PoolArea             int64\n",
      "PoolQC               object\n",
      "Fence                object\n",
      "MiscFeature          object\n",
      "MiscVal              int64\n",
      "MoSold               int64\n",
      "YrSold               int64\n",
      "SaleType             object\n",
      "SaleCondition        object\n",
      "SalePrice            int64\n"
     ]
    }
   ],
   "source": [
    "for col in ames_train_df:\n",
    "    print(\"{:20} {}\".format(col, ames_train_df[col].dtype))"
   ]
  },
  {
   "cell_type": "code",
   "execution_count": 4,
   "metadata": {},
   "outputs": [
    {
     "data": {
      "text/plain": [
       "((1460, 81), (1459, 80))"
      ]
     },
     "execution_count": 4,
     "metadata": {},
     "output_type": "execute_result"
    }
   ],
   "source": [
    "ames_train_df.shape, ames_test_df.shape"
   ]
  },
  {
   "cell_type": "code",
   "execution_count": 5,
   "metadata": {},
   "outputs": [
    {
     "data": {
      "text/html": [
       "<div>\n",
       "<table border=\"1\" class=\"dataframe\">\n",
       "  <thead>\n",
       "    <tr style=\"text-align: right;\">\n",
       "      <th></th>\n",
       "      <th>Id</th>\n",
       "      <th>MSSubClass</th>\n",
       "      <th>MSZoning</th>\n",
       "      <th>LotFrontage</th>\n",
       "      <th>LotArea</th>\n",
       "      <th>Street</th>\n",
       "      <th>Alley</th>\n",
       "      <th>LotShape</th>\n",
       "      <th>LandContour</th>\n",
       "      <th>Utilities</th>\n",
       "      <th>...</th>\n",
       "      <th>PoolArea</th>\n",
       "      <th>PoolQC</th>\n",
       "      <th>Fence</th>\n",
       "      <th>MiscFeature</th>\n",
       "      <th>MiscVal</th>\n",
       "      <th>MoSold</th>\n",
       "      <th>YrSold</th>\n",
       "      <th>SaleType</th>\n",
       "      <th>SaleCondition</th>\n",
       "      <th>SalePrice</th>\n",
       "    </tr>\n",
       "  </thead>\n",
       "  <tbody>\n",
       "    <tr>\n",
       "      <th>552</th>\n",
       "      <td>553</td>\n",
       "      <td>20</td>\n",
       "      <td>RL</td>\n",
       "      <td>87.0</td>\n",
       "      <td>11146</td>\n",
       "      <td>Pave</td>\n",
       "      <td>NaN</td>\n",
       "      <td>IR1</td>\n",
       "      <td>Lvl</td>\n",
       "      <td>AllPub</td>\n",
       "      <td>...</td>\n",
       "      <td>0</td>\n",
       "      <td>NaN</td>\n",
       "      <td>NaN</td>\n",
       "      <td>NaN</td>\n",
       "      <td>0</td>\n",
       "      <td>7</td>\n",
       "      <td>2009</td>\n",
       "      <td>WD</td>\n",
       "      <td>Normal</td>\n",
       "      <td>255500</td>\n",
       "    </tr>\n",
       "    <tr>\n",
       "      <th>750</th>\n",
       "      <td>751</td>\n",
       "      <td>50</td>\n",
       "      <td>RM</td>\n",
       "      <td>55.0</td>\n",
       "      <td>8800</td>\n",
       "      <td>Pave</td>\n",
       "      <td>Grvl</td>\n",
       "      <td>Reg</td>\n",
       "      <td>Lvl</td>\n",
       "      <td>AllPub</td>\n",
       "      <td>...</td>\n",
       "      <td>0</td>\n",
       "      <td>NaN</td>\n",
       "      <td>NaN</td>\n",
       "      <td>NaN</td>\n",
       "      <td>0</td>\n",
       "      <td>6</td>\n",
       "      <td>2010</td>\n",
       "      <td>WD</td>\n",
       "      <td>Normal</td>\n",
       "      <td>96500</td>\n",
       "    </tr>\n",
       "    <tr>\n",
       "      <th>679</th>\n",
       "      <td>680</td>\n",
       "      <td>20</td>\n",
       "      <td>RL</td>\n",
       "      <td>NaN</td>\n",
       "      <td>9945</td>\n",
       "      <td>Pave</td>\n",
       "      <td>NaN</td>\n",
       "      <td>IR1</td>\n",
       "      <td>Lvl</td>\n",
       "      <td>AllPub</td>\n",
       "      <td>...</td>\n",
       "      <td>0</td>\n",
       "      <td>NaN</td>\n",
       "      <td>NaN</td>\n",
       "      <td>NaN</td>\n",
       "      <td>0</td>\n",
       "      <td>10</td>\n",
       "      <td>2007</td>\n",
       "      <td>WD</td>\n",
       "      <td>Normal</td>\n",
       "      <td>128500</td>\n",
       "    </tr>\n",
       "    <tr>\n",
       "      <th>97</th>\n",
       "      <td>98</td>\n",
       "      <td>20</td>\n",
       "      <td>RL</td>\n",
       "      <td>73.0</td>\n",
       "      <td>10921</td>\n",
       "      <td>Pave</td>\n",
       "      <td>NaN</td>\n",
       "      <td>Reg</td>\n",
       "      <td>HLS</td>\n",
       "      <td>AllPub</td>\n",
       "      <td>...</td>\n",
       "      <td>0</td>\n",
       "      <td>NaN</td>\n",
       "      <td>NaN</td>\n",
       "      <td>NaN</td>\n",
       "      <td>0</td>\n",
       "      <td>5</td>\n",
       "      <td>2007</td>\n",
       "      <td>WD</td>\n",
       "      <td>Normal</td>\n",
       "      <td>94750</td>\n",
       "    </tr>\n",
       "  </tbody>\n",
       "</table>\n",
       "<p>4 rows × 81 columns</p>\n",
       "</div>"
      ],
      "text/plain": [
       "      Id  MSSubClass MSZoning  LotFrontage  LotArea Street Alley LotShape  \\\n",
       "552  553          20       RL         87.0    11146   Pave   NaN      IR1   \n",
       "750  751          50       RM         55.0     8800   Pave  Grvl      Reg   \n",
       "679  680          20       RL          NaN     9945   Pave   NaN      IR1   \n",
       "97    98          20       RL         73.0    10921   Pave   NaN      Reg   \n",
       "\n",
       "    LandContour Utilities    ...     PoolArea PoolQC Fence MiscFeature  \\\n",
       "552         Lvl    AllPub    ...            0    NaN   NaN         NaN   \n",
       "750         Lvl    AllPub    ...            0    NaN   NaN         NaN   \n",
       "679         Lvl    AllPub    ...            0    NaN   NaN         NaN   \n",
       "97          HLS    AllPub    ...            0    NaN   NaN         NaN   \n",
       "\n",
       "    MiscVal MoSold YrSold  SaleType  SaleCondition  SalePrice  \n",
       "552       0      7   2009        WD         Normal     255500  \n",
       "750       0      6   2010        WD         Normal      96500  \n",
       "679       0     10   2007        WD         Normal     128500  \n",
       "97        0      5   2007        WD         Normal      94750  \n",
       "\n",
       "[4 rows x 81 columns]"
      ]
     },
     "execution_count": 5,
     "metadata": {},
     "output_type": "execute_result"
    }
   ],
   "source": [
    "ames_train_df.sample(4)"
   ]
  },
  {
   "cell_type": "code",
   "execution_count": 6,
   "metadata": {
    "collapsed": true
   },
   "outputs": [],
   "source": [
    "ames_train_df = ames_train_df.set_index('Id')\n",
    "ames_test_df = ames_test_df.set_index('Id')"
   ]
  },
  {
   "cell_type": "code",
   "execution_count": 7,
   "metadata": {
    "scrolled": true
   },
   "outputs": [
    {
     "data": {
      "text/html": [
       "<div>\n",
       "<table border=\"1\" class=\"dataframe\">\n",
       "  <thead>\n",
       "    <tr style=\"text-align: right;\">\n",
       "      <th></th>\n",
       "      <th>MSSubClass</th>\n",
       "      <th>LotFrontage</th>\n",
       "      <th>LotArea</th>\n",
       "      <th>OverallQual</th>\n",
       "      <th>OverallCond</th>\n",
       "      <th>YearBuilt</th>\n",
       "      <th>YearRemodAdd</th>\n",
       "      <th>MasVnrArea</th>\n",
       "      <th>BsmtFinSF1</th>\n",
       "      <th>BsmtFinSF2</th>\n",
       "      <th>...</th>\n",
       "      <th>WoodDeckSF</th>\n",
       "      <th>OpenPorchSF</th>\n",
       "      <th>EnclosedPorch</th>\n",
       "      <th>3SsnPorch</th>\n",
       "      <th>ScreenPorch</th>\n",
       "      <th>PoolArea</th>\n",
       "      <th>MiscVal</th>\n",
       "      <th>MoSold</th>\n",
       "      <th>YrSold</th>\n",
       "      <th>SalePrice</th>\n",
       "    </tr>\n",
       "  </thead>\n",
       "  <tbody>\n",
       "    <tr>\n",
       "      <th>count</th>\n",
       "      <td>1460.000000</td>\n",
       "      <td>1201.000000</td>\n",
       "      <td>1460.000000</td>\n",
       "      <td>1460.000000</td>\n",
       "      <td>1460.000000</td>\n",
       "      <td>1460.000000</td>\n",
       "      <td>1460.000000</td>\n",
       "      <td>1452.000000</td>\n",
       "      <td>1460.000000</td>\n",
       "      <td>1460.000000</td>\n",
       "      <td>...</td>\n",
       "      <td>1460.000000</td>\n",
       "      <td>1460.000000</td>\n",
       "      <td>1460.000000</td>\n",
       "      <td>1460.000000</td>\n",
       "      <td>1460.000000</td>\n",
       "      <td>1460.000000</td>\n",
       "      <td>1460.000000</td>\n",
       "      <td>1460.000000</td>\n",
       "      <td>1460.000000</td>\n",
       "      <td>1460.000000</td>\n",
       "    </tr>\n",
       "    <tr>\n",
       "      <th>mean</th>\n",
       "      <td>56.897260</td>\n",
       "      <td>70.049958</td>\n",
       "      <td>10516.828082</td>\n",
       "      <td>6.099315</td>\n",
       "      <td>5.575342</td>\n",
       "      <td>1971.267808</td>\n",
       "      <td>1984.865753</td>\n",
       "      <td>103.685262</td>\n",
       "      <td>443.639726</td>\n",
       "      <td>46.549315</td>\n",
       "      <td>...</td>\n",
       "      <td>94.244521</td>\n",
       "      <td>46.660274</td>\n",
       "      <td>21.954110</td>\n",
       "      <td>3.409589</td>\n",
       "      <td>15.060959</td>\n",
       "      <td>2.758904</td>\n",
       "      <td>43.489041</td>\n",
       "      <td>6.321918</td>\n",
       "      <td>2007.815753</td>\n",
       "      <td>180921.195890</td>\n",
       "    </tr>\n",
       "    <tr>\n",
       "      <th>std</th>\n",
       "      <td>42.300571</td>\n",
       "      <td>24.284752</td>\n",
       "      <td>9981.264932</td>\n",
       "      <td>1.382997</td>\n",
       "      <td>1.112799</td>\n",
       "      <td>30.202904</td>\n",
       "      <td>20.645407</td>\n",
       "      <td>181.066207</td>\n",
       "      <td>456.098091</td>\n",
       "      <td>161.319273</td>\n",
       "      <td>...</td>\n",
       "      <td>125.338794</td>\n",
       "      <td>66.256028</td>\n",
       "      <td>61.119149</td>\n",
       "      <td>29.317331</td>\n",
       "      <td>55.757415</td>\n",
       "      <td>40.177307</td>\n",
       "      <td>496.123024</td>\n",
       "      <td>2.703626</td>\n",
       "      <td>1.328095</td>\n",
       "      <td>79442.502883</td>\n",
       "    </tr>\n",
       "    <tr>\n",
       "      <th>min</th>\n",
       "      <td>20.000000</td>\n",
       "      <td>21.000000</td>\n",
       "      <td>1300.000000</td>\n",
       "      <td>1.000000</td>\n",
       "      <td>1.000000</td>\n",
       "      <td>1872.000000</td>\n",
       "      <td>1950.000000</td>\n",
       "      <td>0.000000</td>\n",
       "      <td>0.000000</td>\n",
       "      <td>0.000000</td>\n",
       "      <td>...</td>\n",
       "      <td>0.000000</td>\n",
       "      <td>0.000000</td>\n",
       "      <td>0.000000</td>\n",
       "      <td>0.000000</td>\n",
       "      <td>0.000000</td>\n",
       "      <td>0.000000</td>\n",
       "      <td>0.000000</td>\n",
       "      <td>1.000000</td>\n",
       "      <td>2006.000000</td>\n",
       "      <td>34900.000000</td>\n",
       "    </tr>\n",
       "    <tr>\n",
       "      <th>25%</th>\n",
       "      <td>20.000000</td>\n",
       "      <td>59.000000</td>\n",
       "      <td>7553.500000</td>\n",
       "      <td>5.000000</td>\n",
       "      <td>5.000000</td>\n",
       "      <td>1954.000000</td>\n",
       "      <td>1967.000000</td>\n",
       "      <td>0.000000</td>\n",
       "      <td>0.000000</td>\n",
       "      <td>0.000000</td>\n",
       "      <td>...</td>\n",
       "      <td>0.000000</td>\n",
       "      <td>0.000000</td>\n",
       "      <td>0.000000</td>\n",
       "      <td>0.000000</td>\n",
       "      <td>0.000000</td>\n",
       "      <td>0.000000</td>\n",
       "      <td>0.000000</td>\n",
       "      <td>5.000000</td>\n",
       "      <td>2007.000000</td>\n",
       "      <td>129975.000000</td>\n",
       "    </tr>\n",
       "    <tr>\n",
       "      <th>50%</th>\n",
       "      <td>50.000000</td>\n",
       "      <td>69.000000</td>\n",
       "      <td>9478.500000</td>\n",
       "      <td>6.000000</td>\n",
       "      <td>5.000000</td>\n",
       "      <td>1973.000000</td>\n",
       "      <td>1994.000000</td>\n",
       "      <td>0.000000</td>\n",
       "      <td>383.500000</td>\n",
       "      <td>0.000000</td>\n",
       "      <td>...</td>\n",
       "      <td>0.000000</td>\n",
       "      <td>25.000000</td>\n",
       "      <td>0.000000</td>\n",
       "      <td>0.000000</td>\n",
       "      <td>0.000000</td>\n",
       "      <td>0.000000</td>\n",
       "      <td>0.000000</td>\n",
       "      <td>6.000000</td>\n",
       "      <td>2008.000000</td>\n",
       "      <td>163000.000000</td>\n",
       "    </tr>\n",
       "    <tr>\n",
       "      <th>75%</th>\n",
       "      <td>70.000000</td>\n",
       "      <td>80.000000</td>\n",
       "      <td>11601.500000</td>\n",
       "      <td>7.000000</td>\n",
       "      <td>6.000000</td>\n",
       "      <td>2000.000000</td>\n",
       "      <td>2004.000000</td>\n",
       "      <td>166.000000</td>\n",
       "      <td>712.250000</td>\n",
       "      <td>0.000000</td>\n",
       "      <td>...</td>\n",
       "      <td>168.000000</td>\n",
       "      <td>68.000000</td>\n",
       "      <td>0.000000</td>\n",
       "      <td>0.000000</td>\n",
       "      <td>0.000000</td>\n",
       "      <td>0.000000</td>\n",
       "      <td>0.000000</td>\n",
       "      <td>8.000000</td>\n",
       "      <td>2009.000000</td>\n",
       "      <td>214000.000000</td>\n",
       "    </tr>\n",
       "    <tr>\n",
       "      <th>max</th>\n",
       "      <td>190.000000</td>\n",
       "      <td>313.000000</td>\n",
       "      <td>215245.000000</td>\n",
       "      <td>10.000000</td>\n",
       "      <td>9.000000</td>\n",
       "      <td>2010.000000</td>\n",
       "      <td>2010.000000</td>\n",
       "      <td>1600.000000</td>\n",
       "      <td>5644.000000</td>\n",
       "      <td>1474.000000</td>\n",
       "      <td>...</td>\n",
       "      <td>857.000000</td>\n",
       "      <td>547.000000</td>\n",
       "      <td>552.000000</td>\n",
       "      <td>508.000000</td>\n",
       "      <td>480.000000</td>\n",
       "      <td>738.000000</td>\n",
       "      <td>15500.000000</td>\n",
       "      <td>12.000000</td>\n",
       "      <td>2010.000000</td>\n",
       "      <td>755000.000000</td>\n",
       "    </tr>\n",
       "  </tbody>\n",
       "</table>\n",
       "<p>8 rows × 37 columns</p>\n",
       "</div>"
      ],
      "text/plain": [
       "        MSSubClass  LotFrontage        LotArea  OverallQual  OverallCond  \\\n",
       "count  1460.000000  1201.000000    1460.000000  1460.000000  1460.000000   \n",
       "mean     56.897260    70.049958   10516.828082     6.099315     5.575342   \n",
       "std      42.300571    24.284752    9981.264932     1.382997     1.112799   \n",
       "min      20.000000    21.000000    1300.000000     1.000000     1.000000   \n",
       "25%      20.000000    59.000000    7553.500000     5.000000     5.000000   \n",
       "50%      50.000000    69.000000    9478.500000     6.000000     5.000000   \n",
       "75%      70.000000    80.000000   11601.500000     7.000000     6.000000   \n",
       "max     190.000000   313.000000  215245.000000    10.000000     9.000000   \n",
       "\n",
       "         YearBuilt  YearRemodAdd   MasVnrArea   BsmtFinSF1   BsmtFinSF2  \\\n",
       "count  1460.000000   1460.000000  1452.000000  1460.000000  1460.000000   \n",
       "mean   1971.267808   1984.865753   103.685262   443.639726    46.549315   \n",
       "std      30.202904     20.645407   181.066207   456.098091   161.319273   \n",
       "min    1872.000000   1950.000000     0.000000     0.000000     0.000000   \n",
       "25%    1954.000000   1967.000000     0.000000     0.000000     0.000000   \n",
       "50%    1973.000000   1994.000000     0.000000   383.500000     0.000000   \n",
       "75%    2000.000000   2004.000000   166.000000   712.250000     0.000000   \n",
       "max    2010.000000   2010.000000  1600.000000  5644.000000  1474.000000   \n",
       "\n",
       "           ...         WoodDeckSF  OpenPorchSF  EnclosedPorch    3SsnPorch  \\\n",
       "count      ...        1460.000000  1460.000000    1460.000000  1460.000000   \n",
       "mean       ...          94.244521    46.660274      21.954110     3.409589   \n",
       "std        ...         125.338794    66.256028      61.119149    29.317331   \n",
       "min        ...           0.000000     0.000000       0.000000     0.000000   \n",
       "25%        ...           0.000000     0.000000       0.000000     0.000000   \n",
       "50%        ...           0.000000    25.000000       0.000000     0.000000   \n",
       "75%        ...         168.000000    68.000000       0.000000     0.000000   \n",
       "max        ...         857.000000   547.000000     552.000000   508.000000   \n",
       "\n",
       "       ScreenPorch     PoolArea       MiscVal       MoSold       YrSold  \\\n",
       "count  1460.000000  1460.000000   1460.000000  1460.000000  1460.000000   \n",
       "mean     15.060959     2.758904     43.489041     6.321918  2007.815753   \n",
       "std      55.757415    40.177307    496.123024     2.703626     1.328095   \n",
       "min       0.000000     0.000000      0.000000     1.000000  2006.000000   \n",
       "25%       0.000000     0.000000      0.000000     5.000000  2007.000000   \n",
       "50%       0.000000     0.000000      0.000000     6.000000  2008.000000   \n",
       "75%       0.000000     0.000000      0.000000     8.000000  2009.000000   \n",
       "max     480.000000   738.000000  15500.000000    12.000000  2010.000000   \n",
       "\n",
       "           SalePrice  \n",
       "count    1460.000000  \n",
       "mean   180921.195890  \n",
       "std     79442.502883  \n",
       "min     34900.000000  \n",
       "25%    129975.000000  \n",
       "50%    163000.000000  \n",
       "75%    214000.000000  \n",
       "max    755000.000000  \n",
       "\n",
       "[8 rows x 37 columns]"
      ]
     },
     "execution_count": 7,
     "metadata": {},
     "output_type": "execute_result"
    }
   ],
   "source": [
    "ames_train_df.describe()"
   ]
  },
  {
   "cell_type": "markdown",
   "metadata": {},
   "source": [
    "### Which features are numerical and categorical?"
   ]
  },
  {
   "cell_type": "markdown",
   "metadata": {},
   "source": [
    "According the `data_description.txt` file `MSSubClass` is a categorical feature that is encoded with numerical values."
   ]
  },
  {
   "cell_type": "code",
   "execution_count": 8,
   "metadata": {},
   "outputs": [
    {
     "data": {
      "text/plain": [
       "(dtype('int64'), dtype('int64'))"
      ]
     },
     "execution_count": 8,
     "metadata": {},
     "output_type": "execute_result"
    }
   ],
   "source": [
    "ames_train_df.MSSubClass.dtype, ames_test_df.MSSubClass.dtype"
   ]
  },
  {
   "cell_type": "code",
   "execution_count": 9,
   "metadata": {
    "collapsed": true
   },
   "outputs": [],
   "source": [
    "ames_train_df.MSSubClass = ames_train_df.MSSubClass.astype('object')\n",
    "ames_test_df.MSSubClass = ames_test_df.MSSubClass.astype('object')"
   ]
  },
  {
   "cell_type": "markdown",
   "metadata": {},
   "source": [
    "### Identify Features with Null Values"
   ]
  },
  {
   "cell_type": "code",
   "execution_count": 10,
   "metadata": {},
   "outputs": [
    {
     "name": "stdout",
     "output_type": "stream",
     "text": [
      "LotFrontage          float64    null values:    259 null test values: 227\n",
      "Alley                object     null values:   1369 null test values: 1352\n",
      "MasVnrType           object     null values:      8 null test values: 16\n",
      "MasVnrArea           float64    null values:      8 null test values: 15\n",
      "BsmtQual             object     null values:     37 null test values: 44\n",
      "BsmtCond             object     null values:     37 null test values: 45\n",
      "BsmtExposure         object     null values:     38 null test values: 44\n",
      "BsmtFinType1         object     null values:     37 null test values: 42\n",
      "BsmtFinType2         object     null values:     38 null test values: 42\n",
      "Electrical           object     null values:      1 null test values: 0\n",
      "FireplaceQu          object     null values:    690 null test values: 730\n",
      "GarageType           object     null values:     81 null test values: 76\n",
      "GarageYrBlt          float64    null values:     81 null test values: 78\n",
      "GarageFinish         object     null values:     81 null test values: 78\n",
      "GarageQual           object     null values:     81 null test values: 78\n",
      "GarageCond           object     null values:     81 null test values: 78\n",
      "PoolQC               object     null values:   1453 null test values: 1456\n",
      "Fence                object     null values:   1179 null test values: 1169\n",
      "MiscFeature          object     null values:   1406 null test values: 1408\n"
     ]
    }
   ],
   "source": [
    "eda.identify_nulls(ames_train_df, ames_test_df)"
   ]
  },
  {
   "cell_type": "markdown",
   "metadata": {},
   "source": [
    "Each of these will require special handling."
   ]
  },
  {
   "cell_type": "markdown",
   "metadata": {},
   "source": [
    "#### `LotFrontage`\n",
    "\n",
    "From `data_description.txt`:\n",
    "\n",
    "    LotFrontage: Linear feet of street connected to property"
   ]
  },
  {
   "cell_type": "code",
   "execution_count": 11,
   "metadata": {
    "scrolled": true
   },
   "outputs": [
    {
     "name": "stdout",
     "output_type": "stream",
     "text": [
      "train  LotFrontage          float64    null values: 259 \n",
      "test   LotFrontage          float64    null values: 227 \n"
     ]
    },
    {
     "data": {
      "image/png": "[encoded data removed]",
      "text/plain": [
       "<matplotlib.figure.Figure at 0x7f373d349b70>"
      ]
     },
     "metadata": {},
     "output_type": "display_data"
    }
   ],
   "source": [
    "eda.feature_null_info_train_test(ames_train_df, ames_test_df, 'LotFrontage', False)\n",
    "eda.feat_dist_plot(ames_train_df, ames_test_df, 'LotFrontage')"
   ]
  },
  {
   "cell_type": "markdown",
   "metadata": {},
   "source": [
    "Note that mean and median for this continuous feature are largely indistinguishable. We will replace `nan` values with the mean."
   ]
  },
  {
   "cell_type": "code",
   "execution_count": 12,
   "metadata": {
    "collapsed": true
   },
   "outputs": [],
   "source": [
    "ames_train_df.LotFrontage = ames_train_df.LotFrontage.fillna(ames_train_df.LotFrontage.mean())\n",
    "ames_test_df.LotFrontage = ames_test_df.LotFrontage.fillna(ames_test_df.LotFrontage.mean())"
   ]
  },
  {
   "cell_type": "code",
   "execution_count": 13,
   "metadata": {
    "collapsed": true
   },
   "outputs": [],
   "source": [
    "assert sum(ames_train_df.LotFrontage.isnull()) == 0\n",
    "assert sum(ames_test_df.LotFrontage.isnull()) == 0"
   ]
  },
  {
   "cell_type": "markdown",
   "metadata": {},
   "source": [
    "#### `Alley`\n",
    "\n",
    "From `data_description.txt`:\n",
    "\n",
    "    Alley: Type of alley access to property\n",
    "\n",
    "           Grvl\tGravel\n",
    "           Pave\tPaved\n",
    "           NA \tNo alley access"
   ]
  },
  {
   "cell_type": "code",
   "execution_count": 14,
   "metadata": {},
   "outputs": [
    {
     "name": "stdout",
     "output_type": "stream",
     "text": [
      "train  Alley                object     null values: 1369 [nan 'Grvl' 'Pave']\n",
      "test   Alley                object     null values: 1352 [nan 'Pave' 'Grvl']\n"
     ]
    }
   ],
   "source": [
    "eda.feature_null_info_train_test(ames_train_df, ames_test_df, 'Alley', True)"
   ]
  },
  {
   "cell_type": "markdown",
   "metadata": {},
   "source": [
    "For this categorical feature, we will assign `nan` to signify that the house has 'None'."
   ]
  },
  {
   "cell_type": "code",
   "execution_count": 15,
   "metadata": {
    "collapsed": true
   },
   "outputs": [],
   "source": [
    "ames_train_df.Alley = ames_train_df.Alley.fillna('None')\n",
    "ames_test_df.Alley = ames_test_df.Alley.fillna('None')"
   ]
  },
  {
   "cell_type": "code",
   "execution_count": 16,
   "metadata": {
    "collapsed": true
   },
   "outputs": [],
   "source": [
    "assert sum(ames_train_df.Alley.isnull()) == 0\n",
    "assert sum(ames_test_df.Alley.isnull()) == 0"
   ]
  },
  {
   "cell_type": "code",
   "execution_count": 17,
   "metadata": {},
   "outputs": [
    {
     "data": {
      "text/plain": [
       "<matplotlib.legend.Legend at 0x7f373d39ac18>"
      ]
     },
     "execution_count": 17,
     "metadata": {},
     "output_type": "execute_result"
    },
    {
     "data": {
      "image/png": "[encoded data removed]",
      "text/plain": [
       "<matplotlib.figure.Figure at 0x7f373d384a58>"
      ]
     },
     "metadata": {},
     "output_type": "display_data"
    }
   ],
   "source": [
    "fig = plt.figure(figsize=(6,3))\n",
    "for val in ames_train_df['Alley'].unique():    \n",
    "    sns.distplot(ames_train_df['SalePrice'][ames_train_df['Alley']==val], label=val)\n",
    "plt.legend()"
   ]
  },
  {
   "cell_type": "markdown",
   "metadata": {},
   "source": [
    "Note the clear correlations between alley access type and sale price."
   ]
  },
  {
   "cell_type": "markdown",
   "metadata": {},
   "source": [
    "#### `MasVnrType`\n",
    "\n",
    "From `data_description.txt`:\n",
    "\n",
    "    MasVnrType: Masonry veneer type\n",
    "\n",
    "           BrkCmn\tBrick Common\n",
    "           BrkFace\tBrick Face\n",
    "           CBlock\tCinder Block\n",
    "           None\tNone\n",
    "           Stone\tStone"
   ]
  },
  {
   "cell_type": "code",
   "execution_count": 18,
   "metadata": {},
   "outputs": [
    {
     "name": "stdout",
     "output_type": "stream",
     "text": [
      "MasVnrType           object     null values: 8 ['BrkFace' 'None' 'Stone' 'BrkCmn' nan]\n",
      "MasVnrType           object     null values: 16 ['None' 'BrkFace' 'Stone' 'BrkCmn' nan]\n"
     ]
    }
   ],
   "source": [
    "eda.feature_info(ames_train_df, 'MasVnrType')\n",
    "eda.feature_info(ames_test_df, 'MasVnrType')"
   ]
  },
  {
   "cell_type": "markdown",
   "metadata": {},
   "source": [
    "This categorical feature is a bit ambiguous. Note that it includes a `None` attribute a priori and also that `CBlock`, listed in the data description appears to be missing in the dataset. Could it be that `nan` should be the missing attribute `CBlock`? or should `nan` be taken as additional `None` values. \n",
    "\n",
    "Both transformations will be stored here. For model fitting only one will be used."
   ]
  },
  {
   "cell_type": "code",
   "execution_count": 19,
   "metadata": {
    "collapsed": true
   },
   "outputs": [],
   "source": [
    "ames_train_df['MasVnrType_1'] = ames_train_df['MasVnrType'].fillna('CBlock')\n",
    "ames_test_df['MasVnrType_1'] = ames_test_df['MasVnrType'].fillna('CBlock')\n",
    "ames_train_df['MasVnrType_2'] = ames_train_df['MasVnrType'].fillna('None')\n",
    "ames_test_df['MasVnrType_2'] = ames_test_df['MasVnrType'].fillna('None')"
   ]
  },
  {
   "cell_type": "code",
   "execution_count": 20,
   "metadata": {
    "collapsed": true
   },
   "outputs": [],
   "source": [
    "MasVnrType_train = ames_train_df['MasVnrType']\n",
    "MasVnrType_test = ames_test_df['MasVnrType']\n",
    "ames_train_df.drop('MasVnrType', axis=1, inplace=True)\n",
    "ames_test_df.drop('MasVnrType', axis=1, inplace=True)"
   ]
  },
  {
   "cell_type": "code",
   "execution_count": 21,
   "metadata": {},
   "outputs": [
    {
     "data": {
      "text/plain": [
       "<matplotlib.legend.Legend at 0x7f373d28be48>"
      ]
     },
     "execution_count": 21,
     "metadata": {},
     "output_type": "execute_result"
    },
    {
     "data": {
      "image/png": "[encoded data removed]",
      "text/plain": [
       "<matplotlib.figure.Figure at 0x7f3739749828>"
      ]
     },
     "metadata": {},
     "output_type": "display_data"
    }
   ],
   "source": [
    "fig = plt.figure(figsize=(12,3))\n",
    "fig.add_subplot(1,2,1)\n",
    "for val in ames_train_df['MasVnrType_1'].unique():    \n",
    "    sns.distplot(ames_train_df['SalePrice'][ames_train_df['MasVnrType_1']==val], label=val)\n",
    "plt.legend()\n",
    "fig.add_subplot(1,2,2)\n",
    "for val in ames_train_df['MasVnrType_2'].unique():    \n",
    "    sns.distplot(ames_train_df['SalePrice'][ames_train_df['MasVnrType_2']==val], label=val)\n",
    "plt.legend()"
   ]
  },
  {
   "cell_type": "markdown",
   "metadata": {},
   "source": [
    "#### `MasVnrArea`\n",
    "\n",
    "From `data_description.txt`:\n",
    "\n",
    "    MasVnrArea: Masonry veneer area in square feet"
   ]
  },
  {
   "cell_type": "code",
   "execution_count": 22,
   "metadata": {},
   "outputs": [
    {
     "name": "stdout",
     "output_type": "stream",
     "text": [
      "MasVnrArea           float64    null values: 8 \n",
      "MasVnrArea           float64    null values: 15 \n"
     ]
    }
   ],
   "source": [
    "eda.feature_info(ames_train_df, 'MasVnrArea', False)\n",
    "eda.feature_info(ames_test_df, 'MasVnrArea', False)"
   ]
  },
  {
   "cell_type": "code",
   "execution_count": 23,
   "metadata": {},
   "outputs": [
    {
     "data": {
      "text/plain": [
       "<matplotlib.lines.Line2D at 0x7f37391d1f98>"
      ]
     },
     "execution_count": 23,
     "metadata": {},
     "output_type": "execute_result"
    },
    {
     "data": {
      "image/png": "[encoded data removed]",
      "text/plain": [
       "<matplotlib.figure.Figure at 0x7f3739515860>"
      ]
     },
     "metadata": {},
     "output_type": "display_data"
    }
   ],
   "source": [
    "fig = plt.figure(figsize=(12,3))\n",
    "fig.add_subplot(1,2,1)\n",
    "sns.distplot(ames_train_df.MasVnrArea.dropna())\n",
    "plt.axvline(ames_train_df.MasVnrArea.median(), c='red')\n",
    "plt.axvline(ames_train_df.MasVnrArea.mean(), c='green')\n",
    "fig.add_subplot(1,2,2)\n",
    "sns.distplot(ames_test_df.MasVnrArea.dropna())\n",
    "plt.axvline(ames_test_df.MasVnrArea.median(), c='red')\n",
    "plt.axvline(ames_test_df.MasVnrArea.mean(), c='green')"
   ]
  },
  {
   "cell_type": "markdown",
   "metadata": {},
   "source": [
    "The distribution of this numerical feature is heavily skewed, no doubt influenced by the large number of 0s. "
   ]
  },
  {
   "cell_type": "markdown",
   "metadata": {},
   "source": [
    "#### The Null Area values correspond to the Null Type values"
   ]
  },
  {
   "cell_type": "code",
   "execution_count": 24,
   "metadata": {},
   "outputs": [
    {
     "data": {
      "text/plain": [
       "Id\n",
       "235    NaN\n",
       "530    NaN\n",
       "651    NaN\n",
       "937    NaN\n",
       "974    NaN\n",
       "978    NaN\n",
       "1244   NaN\n",
       "1279   NaN\n",
       "Name: MasVnrArea, dtype: float64"
      ]
     },
     "execution_count": 24,
     "metadata": {},
     "output_type": "execute_result"
    }
   ],
   "source": [
    "ames_train_df['MasVnrArea'][MasVnrType_train.isnull()]"
   ]
  },
  {
   "cell_type": "code",
   "execution_count": 25,
   "metadata": {},
   "outputs": [
    {
     "data": {
      "text/plain": [
       "Id\n",
       "1692      NaN\n",
       "1707      NaN\n",
       "1883      NaN\n",
       "1993      NaN\n",
       "2005      NaN\n",
       "2042      NaN\n",
       "2312      NaN\n",
       "2326      NaN\n",
       "2341      NaN\n",
       "2350      NaN\n",
       "2369      NaN\n",
       "2593      NaN\n",
       "2611    198.0\n",
       "2658      NaN\n",
       "2687      NaN\n",
       "2863      NaN\n",
       "Name: MasVnrArea, dtype: float64"
      ]
     },
     "execution_count": 25,
     "metadata": {},
     "output_type": "execute_result"
    }
   ],
   "source": [
    "ames_test_df['MasVnrArea'][MasVnrType_test.isnull()]"
   ]
  },
  {
   "cell_type": "markdown",
   "metadata": {},
   "source": [
    "Considering this, we will need to take two approaches for area as well."
   ]
  },
  {
   "cell_type": "code",
   "execution_count": 26,
   "metadata": {},
   "outputs": [
    {
     "data": {
      "text/plain": [
       "(0.0, 0.0)"
      ]
     },
     "execution_count": 26,
     "metadata": {},
     "output_type": "execute_result"
    }
   ],
   "source": [
    "(ames_train_df['MasVnrArea'][MasVnrType_train == 'None'].median(),\n",
    " ames_test_df['MasVnrArea'][MasVnrType_test == 'None'].median())"
   ]
  },
  {
   "cell_type": "code",
   "execution_count": 27,
   "metadata": {},
   "outputs": [
    {
     "data": {
      "text/plain": [
       "(254.43027210884352, 256.42756183745581)"
      ]
     },
     "execution_count": 27,
     "metadata": {},
     "output_type": "execute_result"
    }
   ],
   "source": [
    "(ames_train_df['MasVnrArea'][MasVnrType_train != 'None'].mean(),\n",
    " ames_test_df['MasVnrArea'][MasVnrType_test != 'None'].mean())"
   ]
  },
  {
   "cell_type": "markdown",
   "metadata": {},
   "source": [
    "For approach 1, where we assumed that the `nan` represented the missing class, we will fill this value with the mean for all non-`None` classes.\n",
    "\n",
    "For approach 2, where we assumed that the `nan` represented `None`, we will fill this value with the median of the `None` class, 0."
   ]
  },
  {
   "cell_type": "code",
   "execution_count": 28,
   "metadata": {
    "collapsed": true
   },
   "outputs": [],
   "source": [
    "ames_train_df['MasVnrArea_1'] = ames_train_df['MasVnrArea'].fillna(ames_train_df['MasVnrArea'][MasVnrType_train != 'None'].mean())\n",
    "ames_test_df['MasVnrArea_1'] = ames_test_df['MasVnrArea'].fillna(ames_test_df['MasVnrArea'][MasVnrType_test != 'None'].mean())\n",
    "ames_train_df['MasVnrArea_2'] = ames_train_df['MasVnrArea'].fillna(0)\n",
    "ames_test_df['MasVnrArea_2'] = ames_test_df['MasVnrArea'].fillna(0)"
   ]
  },
  {
   "cell_type": "code",
   "execution_count": 29,
   "metadata": {
    "collapsed": true
   },
   "outputs": [],
   "source": [
    "MasVnrArea_train = ames_train_df['MasVnrArea']\n",
    "MasVnrArea_test = ames_test_df['MasVnrArea']\n",
    "ames_train_df.drop('MasVnrArea', axis=1, inplace=True)\n",
    "ames_test_df.drop('MasVnrArea', axis=1, inplace=True)"
   ]
  },
  {
   "cell_type": "markdown",
   "metadata": {},
   "source": [
    "#### `BsmtQual`\n",
    "\n",
    "    BsmtQual: Evaluates the height of the basement\n",
    "\n",
    "           Ex\tExcellent (100+ inches)\t\n",
    "           Gd\tGood (90-99 inches)\n",
    "           TA\tTypical (80-89 inches)\n",
    "           Fa\tFair (70-79 inches)\n",
    "           Po\tPoor (<70 inches\n",
    "           NA\tNo Basement"
   ]
  },
  {
   "cell_type": "code",
   "execution_count": 30,
   "metadata": {},
   "outputs": [
    {
     "name": "stdout",
     "output_type": "stream",
     "text": [
      "BsmtQual             object     null values: 37 ['Gd' 'TA' 'Ex' nan 'Fa']\n",
      "BsmtQual             object     null values: 44 ['TA' 'Gd' 'Ex' 'Fa' nan]\n"
     ]
    }
   ],
   "source": [
    "eda.feature_info(ames_train_df, 'BsmtQual')\n",
    "eda.feature_info(ames_test_df, 'BsmtQual')"
   ]
  },
  {
   "cell_type": "code",
   "execution_count": 31,
   "metadata": {
    "collapsed": true
   },
   "outputs": [],
   "source": [
    "ames_train_df['BsmtQual'] = ames_train_df['BsmtQual'].fillna('None')\n",
    "ames_test_df['BsmtQual'] = ames_test_df['BsmtQual'].fillna('None')"
   ]
  },
  {
   "cell_type": "code",
   "execution_count": 32,
   "metadata": {
    "scrolled": true
   },
   "outputs": [
    {
     "data": {
      "text/plain": [
       "<matplotlib.legend.Legend at 0x7f373902c240>"
      ]
     },
     "execution_count": 32,
     "metadata": {},
     "output_type": "execute_result"
    },
    {
     "data": {
      "image/png": "[encoded data removed]",
      "text/plain": [
       "<matplotlib.figure.Figure at 0x7f3739610748>"
      ]
     },
     "metadata": {},
     "output_type": "display_data"
    }
   ],
   "source": [
    "fig = plt.figure(figsize=(6,3))\n",
    "for val in ames_train_df['BsmtQual'].unique():    \n",
    "    sns.distplot(ames_train_df['SalePrice'][ames_train_df['BsmtQual']==val], label=val)\n",
    "plt.legend()"
   ]
  },
  {
   "cell_type": "markdown",
   "metadata": {},
   "source": [
    "#### `BsmtCond`\n",
    "\n",
    "    BsmtCond: Evaluates the general condition of the basement\n",
    "\n",
    "           Ex\tExcellent\n",
    "           Gd\tGood\n",
    "           TA\tTypical - slight dampness allowed\n",
    "           Fa\tFair - dampness or some cracking or settling\n",
    "           Po\tPoor - Severe cracking, settling, or wetness\n",
    "           NA\tNo Basement"
   ]
  },
  {
   "cell_type": "code",
   "execution_count": 33,
   "metadata": {},
   "outputs": [
    {
     "name": "stdout",
     "output_type": "stream",
     "text": [
      "BsmtCond             object     null values: 37 ['TA' 'Gd' nan 'Fa' 'Po']\n",
      "BsmtCond             object     null values: 45 ['TA' 'Po' 'Fa' 'Gd' nan]\n"
     ]
    }
   ],
   "source": [
    "eda.feature_info(ames_train_df, 'BsmtCond')\n",
    "eda.feature_info(ames_test_df, 'BsmtCond')"
   ]
  },
  {
   "cell_type": "code",
   "execution_count": 34,
   "metadata": {
    "collapsed": true
   },
   "outputs": [],
   "source": [
    "ames_train_df['BsmtCond'] = ames_train_df['BsmtCond'].fillna('None')\n",
    "ames_test_df['BsmtCond'] = ames_test_df['BsmtCond'].fillna('None')"
   ]
  },
  {
   "cell_type": "code",
   "execution_count": 35,
   "metadata": {},
   "outputs": [
    {
     "data": {
      "text/plain": [
       "<matplotlib.legend.Legend at 0x7f3738f5dfd0>"
      ]
     },
     "execution_count": 35,
     "metadata": {},
     "output_type": "execute_result"
    },
    {
     "data": {
      "image/png": "[encoded data removed]",
      "text/plain": [
       "<matplotlib.figure.Figure at 0x7f373902c198>"
      ]
     },
     "metadata": {},
     "output_type": "display_data"
    }
   ],
   "source": [
    "fig = plt.figure(figsize=(6,3))\n",
    "for val in ames_train_df['BsmtCond'].unique():    \n",
    "    sns.distplot(ames_train_df['SalePrice'][ames_train_df['BsmtCond']==val], label=val)\n",
    "plt.legend()"
   ]
  },
  {
   "cell_type": "markdown",
   "metadata": {},
   "source": [
    "#### `BsmtExposure`\n",
    "\t\n",
    "    BsmtExposure: Refers to walkout or garden level walls\n",
    "\n",
    "           Gd\tGood Exposure\n",
    "           Av\tAverage Exposure (split levels or foyers typically score average or above)\t\n",
    "           Mn\tMimimum Exposure\n",
    "           No\tNo Exposure\n",
    "           NA\tNo Basement"
   ]
  },
  {
   "cell_type": "code",
   "execution_count": 36,
   "metadata": {},
   "outputs": [
    {
     "name": "stdout",
     "output_type": "stream",
     "text": [
      "BsmtExposure         object     null values: 38 ['No' 'Gd' 'Mn' 'Av' nan]\n",
      "BsmtExposure         object     null values: 44 ['No' 'Gd' 'Mn' 'Av' nan]\n"
     ]
    }
   ],
   "source": [
    "eda.feature_info(ames_train_df, 'BsmtExposure')\n",
    "eda.feature_info(ames_test_df, 'BsmtExposure')"
   ]
  },
  {
   "cell_type": "code",
   "execution_count": 37,
   "metadata": {
    "collapsed": true
   },
   "outputs": [],
   "source": [
    "ames_train_df['BsmtExposure'] = ames_train_df['BsmtExposure'].fillna('None')\n",
    "ames_test_df['BsmtExposure'] = ames_test_df['BsmtExposure'].fillna('None')"
   ]
  },
  {
   "cell_type": "code",
   "execution_count": 38,
   "metadata": {
    "scrolled": true
   },
   "outputs": [
    {
     "data": {
      "text/plain": [
       "<matplotlib.legend.Legend at 0x7f3738b65748>"
      ]
     },
     "execution_count": 38,
     "metadata": {},
     "output_type": "execute_result"
    },
    {
     "data": {
      "image/png": "[encoded data removed]",
      "text/plain": [
       "<matplotlib.figure.Figure at 0x7f3738b76b00>"
      ]
     },
     "metadata": {},
     "output_type": "display_data"
    }
   ],
   "source": [
    "fig = plt.figure(figsize=(6,3))\n",
    "for val in ames_train_df['BsmtExposure'].unique():    \n",
    "    sns.distplot(ames_train_df['SalePrice'][ames_train_df['BsmtExposure']==val], label=val)\n",
    "plt.legend()"
   ]
  },
  {
   "cell_type": "markdown",
   "metadata": {},
   "source": [
    "#### `BsmtFinType1` \n",
    "\n",
    "    BsmtFinType1: Rating of basement finished area\n",
    "\n",
    "           GLQ\tGood Living Quarters\n",
    "           ALQ\tAverage Living Quarters\n",
    "           BLQ\tBelow Average Living Quarters\t\n",
    "           Rec\tAverage Rec Room\n",
    "           LwQ\tLow Quality\n",
    "           Unf\tUnfinshed\n",
    "           NA\tNo Basement"
   ]
  },
  {
   "cell_type": "code",
   "execution_count": 39,
   "metadata": {},
   "outputs": [
    {
     "name": "stdout",
     "output_type": "stream",
     "text": [
      "BsmtFinType1         object     null values: 37 ['GLQ' 'ALQ' 'Unf' 'Rec' 'BLQ' nan 'LwQ']\n",
      "BsmtFinType1         object     null values: 42 ['Rec' 'ALQ' 'GLQ' 'Unf' 'BLQ' 'LwQ' nan]\n"
     ]
    }
   ],
   "source": [
    "eda.feature_info(ames_train_df, 'BsmtFinType1')\n",
    "eda.feature_info(ames_test_df, 'BsmtFinType1')"
   ]
  },
  {
   "cell_type": "code",
   "execution_count": 40,
   "metadata": {
    "collapsed": true
   },
   "outputs": [],
   "source": [
    "ames_train_df['BsmtFinType1'] = ames_train_df['BsmtFinType1'].fillna('None')\n",
    "ames_test_df['BsmtFinType1'] = ames_test_df['BsmtFinType1'].fillna('None')"
   ]
  },
  {
   "cell_type": "code",
   "execution_count": 41,
   "metadata": {
    "scrolled": true
   },
   "outputs": [
    {
     "data": {
      "text/plain": [
       "<matplotlib.legend.Legend at 0x7f3738a65f60>"
      ]
     },
     "execution_count": 41,
     "metadata": {},
     "output_type": "execute_result"
    },
    {
     "data": {
      "image/png": "[encoded data removed]",
      "text/plain": [
       "<matplotlib.figure.Figure at 0x7f3738b65518>"
      ]
     },
     "metadata": {},
     "output_type": "display_data"
    }
   ],
   "source": [
    "fig = plt.figure(figsize=(6,3))\n",
    "for val in ames_train_df['BsmtFinType1'].unique():    \n",
    "    sns.distplot(ames_train_df['SalePrice'][ames_train_df['BsmtFinType1']==val], label=val)\n",
    "plt.legend()"
   ]
  },
  {
   "cell_type": "markdown",
   "metadata": {},
   "source": [
    "#### `BsmtFinType2` \n",
    "\n",
    "    BsmtFinType2: Rating of basement finished area\n",
    "\n",
    "           GLQ\tGood Living Quarters\n",
    "           ALQ\tAverage Living Quarters\n",
    "           BLQ\tBelow Average Living Quarters\t\n",
    "           Rec\tAverage Rec Room\n",
    "           LwQ\tLow Quality\n",
    "           Unf\tUnfinshed\n",
    "           NA\tNo Basement"
   ]
  },
  {
   "cell_type": "code",
   "execution_count": 42,
   "metadata": {
    "scrolled": true
   },
   "outputs": [
    {
     "name": "stdout",
     "output_type": "stream",
     "text": [
      "BsmtFinType2         object     null values: 38 ['Unf' 'BLQ' nan 'ALQ' 'Rec' 'LwQ' 'GLQ']\n",
      "BsmtFinType2         object     null values: 42 ['LwQ' 'Unf' 'Rec' 'BLQ' 'GLQ' 'ALQ' nan]\n"
     ]
    }
   ],
   "source": [
    "eda.feature_info(ames_train_df, 'BsmtFinType2')\n",
    "eda.feature_info(ames_test_df, 'BsmtFinType2')"
   ]
  },
  {
   "cell_type": "code",
   "execution_count": 43,
   "metadata": {
    "collapsed": true
   },
   "outputs": [],
   "source": [
    "ames_train_df['BsmtFinType2'] = ames_train_df['BsmtFinType2'].fillna('None')\n",
    "ames_test_df['BsmtFinType2'] = ames_test_df['BsmtFinType2'].fillna('None')"
   ]
  },
  {
   "cell_type": "code",
   "execution_count": 44,
   "metadata": {
    "scrolled": true
   },
   "outputs": [
    {
     "data": {
      "text/plain": [
       "<matplotlib.legend.Legend at 0x7f37387e44a8>"
      ]
     },
     "execution_count": 44,
     "metadata": {},
     "output_type": "execute_result"
    },
    {
     "data": {
      "image/png": "[encoded data removed]",
      "text/plain": [
       "<matplotlib.figure.Figure at 0x7f3738a656a0>"
      ]
     },
     "metadata": {},
     "output_type": "display_data"
    }
   ],
   "source": [
    "fig = plt.figure(figsize=(6,3))\n",
    "for val in ames_train_df['BsmtFinType2'].unique():    \n",
    "    sns.distplot(ames_train_df['SalePrice'][ames_train_df['BsmtFinType2']==val], label=val)\n",
    "plt.legend()"
   ]
  },
  {
   "cell_type": "markdown",
   "metadata": {},
   "source": [
    "#### `Electrical` \n",
    "\n",
    "    Electrical: Electrical system\n",
    "\n",
    "           SBrkr\tStandard Circuit Breakers & Romex\n",
    "           FuseA\tFuse Box over 60 AMP and all Romex wiring (Average)\t\n",
    "           FuseF\t60 AMP Fuse Box and mostly Romex wiring (Fair)\n",
    "           FuseP\t60 AMP Fuse Box and mostly knob & tube wiring (poor)\n",
    "           Mix\tMixed"
   ]
  },
  {
   "cell_type": "code",
   "execution_count": 45,
   "metadata": {
    "scrolled": true
   },
   "outputs": [
    {
     "name": "stdout",
     "output_type": "stream",
     "text": [
      "Electrical           object     null values: 1 ['SBrkr' 'FuseF' 'FuseA' 'FuseP' 'Mix' nan]\n",
      "Electrical           object     null values: 0 ['SBrkr' 'FuseA' 'FuseF' 'FuseP']\n"
     ]
    }
   ],
   "source": [
    "eda.feature_info(ames_train_df, 'Electrical')\n",
    "eda.feature_info(ames_test_df, 'Electrical')"
   ]
  },
  {
   "cell_type": "code",
   "execution_count": 46,
   "metadata": {
    "collapsed": true
   },
   "outputs": [],
   "source": [
    "null_electrical = ames_train_df[ames_train_df.Electrical.isnull()].index"
   ]
  },
  {
   "cell_type": "markdown",
   "metadata": {},
   "source": [
    "The `nan` for `Electrical` seems to simply be a strange value. Note that there are no `nan` values in the test data. This row will be dropped from the training data. "
   ]
  },
  {
   "cell_type": "code",
   "execution_count": 47,
   "metadata": {},
   "outputs": [
    {
     "data": {
      "text/plain": [
       "(1460, 82)"
      ]
     },
     "execution_count": 47,
     "metadata": {},
     "output_type": "execute_result"
    }
   ],
   "source": [
    "ames_train_df.shape"
   ]
  },
  {
   "cell_type": "code",
   "execution_count": 48,
   "metadata": {
    "collapsed": true
   },
   "outputs": [],
   "source": [
    "ames_train_df = ames_train_df.drop(null_electrical)"
   ]
  },
  {
   "cell_type": "code",
   "execution_count": 49,
   "metadata": {},
   "outputs": [
    {
     "data": {
      "text/plain": [
       "(1459, 82)"
      ]
     },
     "execution_count": 49,
     "metadata": {},
     "output_type": "execute_result"
    }
   ],
   "source": [
    "ames_train_df.shape"
   ]
  },
  {
   "cell_type": "markdown",
   "metadata": {},
   "source": [
    "#### `FireplaceQu` \n",
    "\n",
    "    FireplaceQu: Fireplace quality\n",
    "\n",
    "           Ex\tExcellent - Exceptional Masonry Fireplace\n",
    "           Gd\tGood - Masonry Fireplace in main level\n",
    "           TA\tAverage - Prefabricated Fireplace in main living area or Masonry Fireplace in basement\n",
    "           Fa\tFair - Prefabricated Fireplace in basement\n",
    "           Po\tPoor - Ben Franklin Stove\n",
    "           NA\tNo Fireplace"
   ]
  },
  {
   "cell_type": "code",
   "execution_count": 50,
   "metadata": {
    "scrolled": true
   },
   "outputs": [
    {
     "name": "stdout",
     "output_type": "stream",
     "text": [
      "FireplaceQu          object     null values: 689 [nan 'TA' 'Gd' 'Fa' 'Ex' 'Po']\n",
      "FireplaceQu          object     null values: 730 [nan 'TA' 'Gd' 'Po' 'Fa' 'Ex']\n"
     ]
    }
   ],
   "source": [
    "eda.feature_info(ames_train_df, 'FireplaceQu')\n",
    "eda.feature_info(ames_test_df, 'FireplaceQu')"
   ]
  },
  {
   "cell_type": "code",
   "execution_count": 51,
   "metadata": {
    "collapsed": true
   },
   "outputs": [],
   "source": [
    "ames_train_df['FireplaceQu'] = ames_train_df['FireplaceQu'].fillna('None')\n",
    "ames_test_df['FireplaceQu'] = ames_test_df['FireplaceQu'].fillna('None')"
   ]
  },
  {
   "cell_type": "code",
   "execution_count": 52,
   "metadata": {
    "scrolled": false
   },
   "outputs": [
    {
     "data": {
      "text/plain": [
       "<matplotlib.legend.Legend at 0x7f37382cef60>"
      ]
     },
     "execution_count": 52,
     "metadata": {},
     "output_type": "execute_result"
    },
    {
     "data": {
      "image/png": "[encoded data removed]",
      "text/plain": [
       "<matplotlib.figure.Figure at 0x7f37384aec50>"
      ]
     },
     "metadata": {},
     "output_type": "display_data"
    }
   ],
   "source": [
    "fig = plt.figure(figsize=(6,3))\n",
    "for val in ames_train_df['FireplaceQu'].unique():    \n",
    "    sns.distplot(ames_train_df['SalePrice'][ames_train_df['FireplaceQu']==val], label=val)\n",
    "plt.legend()"
   ]
  },
  {
   "cell_type": "markdown",
   "metadata": {},
   "source": [
    "#### `GarageType` \n",
    "\n",
    "    GarageType: Garage location\n",
    "\n",
    "           2Types\tMore than one type of garage\n",
    "           Attchd\tAttached to home\n",
    "           Basment\tBasement Garage\n",
    "           BuiltIn\tBuilt-In (Garage part of house - typically has room above garage)\n",
    "           CarPort\tCar Port\n",
    "           Detchd\tDetached from home\n",
    "           NA\tNo Garage"
   ]
  },
  {
   "cell_type": "code",
   "execution_count": 53,
   "metadata": {
    "scrolled": true
   },
   "outputs": [
    {
     "name": "stdout",
     "output_type": "stream",
     "text": [
      "GarageType           object     null values: 81 ['Attchd' 'Detchd' 'BuiltIn' 'CarPort' nan 'Basment' '2Types']\n",
      "GarageType           object     null values: 76 ['Attchd' 'Detchd' 'BuiltIn' nan 'Basment' '2Types' 'CarPort']\n"
     ]
    }
   ],
   "source": [
    "eda.feature_info(ames_train_df, 'GarageType')\n",
    "eda.feature_info(ames_test_df, 'GarageType')"
   ]
  },
  {
   "cell_type": "code",
   "execution_count": 54,
   "metadata": {
    "collapsed": true
   },
   "outputs": [],
   "source": [
    "ames_train_df['GarageType'] = ames_train_df['GarageType'].fillna('None')\n",
    "ames_test_df['GarageType'] = ames_test_df['GarageType'].fillna('None')"
   ]
  },
  {
   "cell_type": "code",
   "execution_count": 55,
   "metadata": {
    "scrolled": true
   },
   "outputs": [
    {
     "data": {
      "text/plain": [
       "<matplotlib.legend.Legend at 0x7f37382968d0>"
      ]
     },
     "execution_count": 55,
     "metadata": {},
     "output_type": "execute_result"
    },
    {
     "data": {
      "image/png": "[encoded data removed]",
      "text/plain": [
       "<matplotlib.figure.Figure at 0x7f373824a860>"
      ]
     },
     "metadata": {},
     "output_type": "display_data"
    }
   ],
   "source": [
    "fig = plt.figure(figsize=(6,3))\n",
    "for val in ames_train_df['GarageType'].unique():    \n",
    "    sns.distplot(ames_train_df['SalePrice'][ames_train_df['GarageType']==val], label=val)\n",
    "plt.legend()"
   ]
  },
  {
   "cell_type": "markdown",
   "metadata": {},
   "source": [
    "#### `GarageYrBlt`\n",
    "\n",
    "    GarageYrBlt: Year garage was built\n",
    "    \n",
    "Certainly the `nan` values in this numerical category correspond."
   ]
  },
  {
   "cell_type": "code",
   "execution_count": 56,
   "metadata": {},
   "outputs": [
    {
     "name": "stdout",
     "output_type": "stream",
     "text": [
      "GarageYrBlt          float64    null values: 81 \n",
      "GarageYrBlt          float64    null values: 78 \n"
     ]
    }
   ],
   "source": [
    "eda.feature_info(ames_train_df, 'GarageYrBlt', False)\n",
    "eda.feature_info(ames_test_df, 'GarageYrBlt', False)"
   ]
  },
  {
   "cell_type": "code",
   "execution_count": 57,
   "metadata": {},
   "outputs": [
    {
     "data": {
      "text/plain": [
       "(81, 76)"
      ]
     },
     "execution_count": 57,
     "metadata": {},
     "output_type": "execute_result"
    }
   ],
   "source": [
    "(sum(ames_train_df[ames_train_df['GarageType'] == 'None']['GarageYrBlt'].isnull()),\n",
    " sum(ames_test_df[ames_test_df['GarageType'] == 'None']['GarageYrBlt'].isnull()))"
   ]
  },
  {
   "cell_type": "markdown",
   "metadata": {},
   "source": [
    "Apparently, there are two values in the test set for which this is not true.\n"
   ]
  },
  {
   "cell_type": "code",
   "execution_count": 58,
   "metadata": {},
   "outputs": [
    {
     "data": {
      "text/plain": [
       "Id\n",
       "2127    Detchd\n",
       "2577    Detchd\n",
       "Name: GarageType, dtype: object"
      ]
     },
     "execution_count": 58,
     "metadata": {},
     "output_type": "execute_result"
    }
   ],
   "source": [
    "ames_test_df[(ames_test_df['GarageYrBlt'].isnull()) & (ames_test_df['GarageType'] != 'None')]['GarageType']"
   ]
  },
  {
   "cell_type": "markdown",
   "metadata": {},
   "source": [
    "##### First deal with `None`"
   ]
  },
  {
   "cell_type": "markdown",
   "metadata": {},
   "source": [
    "To handle this we will convert the `GarageYrBlt` to a categorical variable and then use `None` for one category."
   ]
  },
  {
   "cell_type": "code",
   "execution_count": 59,
   "metadata": {},
   "outputs": [
    {
     "data": {
      "text/plain": [
       "array([ 2003.,  1976.,  2001., ...,  1941.,  1950.,  1965.])"
      ]
     },
     "execution_count": 59,
     "metadata": {},
     "output_type": "execute_result"
    }
   ],
   "source": [
    "ames_train_df['GarageYrBlt'].values"
   ]
  },
  {
   "cell_type": "code",
   "execution_count": 60,
   "metadata": {
    "collapsed": true
   },
   "outputs": [],
   "source": [
    "_, deciles = pd.qcut(ames_train_df['GarageYrBlt'], 10, retbins=True)"
   ]
  },
  {
   "cell_type": "code",
   "execution_count": 61,
   "metadata": {},
   "outputs": [
    {
     "data": {
      "text/plain": [
       "array([ 1900.,  1945.,  1957.,  1965.,  1973.,  1980.,  1993.,  1999.,\n",
       "        2004.,  2006.,  2010.])"
      ]
     },
     "execution_count": 61,
     "metadata": {},
     "output_type": "execute_result"
    }
   ],
   "source": [
    "deciles"
   ]
  },
  {
   "cell_type": "code",
   "execution_count": 62,
   "metadata": {
    "collapsed": true
   },
   "outputs": [],
   "source": [
    "GarageYrBlt = ames_train_df['GarageYrBlt'].copy()\n",
    "GarageYrBlt[GarageYrBlt < deciles[1]] = 0\n",
    "GarageYrBlt[GarageYrBlt >= deciles[9]] = 9\n",
    "for i in range(1,9):\n",
    "    GarageYrBlt[(GarageYrBlt >= deciles[i]) & (GarageYrBlt < deciles[i+1])] = i\n",
    "ames_train_df['GarageYrBlt'] = GarageYrBlt"
   ]
  },
  {
   "cell_type": "code",
   "execution_count": 63,
   "metadata": {
    "collapsed": true
   },
   "outputs": [],
   "source": [
    "GarageYrBlt = ames_test_df['GarageYrBlt'].copy()\n",
    "GarageYrBlt[GarageYrBlt < deciles[1]] = 0\n",
    "GarageYrBlt[GarageYrBlt >= deciles[9]] = 9\n",
    "for i in range(1,9):\n",
    "    GarageYrBlt[(GarageYrBlt >= deciles[i]) & (GarageYrBlt < deciles[i+1])] = i\n",
    "ames_test_df['GarageYrBlt'] = GarageYrBlt"
   ]
  },
  {
   "cell_type": "code",
   "execution_count": 88,
   "metadata": {},
   "outputs": [
    {
     "data": {
      "text/plain": [
       "(array(['None', 4.0], dtype=object),\n",
       " array([7.0, 4.0, 6.0, 8.0, 0.0, 3.0, 2.0, 9.0, 5.0, 1.0, 'None'], dtype=object))"
      ]
     },
     "execution_count": 88,
     "metadata": {},
     "output_type": "execute_result"
    }
   ],
   "source": [
    "ames_test_df['GarageYrBlt'].unique(), ames_train_df['GarageYrBlt'].unique()"
   ]
  },
  {
   "cell_type": "markdown",
   "metadata": {},
   "source": [
    "Then we set the two points with null year built for the test set to th emeidan value."
   ]
  },
  {
   "cell_type": "code",
   "execution_count": 64,
   "metadata": {
    "collapsed": true
   },
   "outputs": [],
   "source": [
    "ames_test_df['GarageYrBlt'] = \\\n",
    " (ames_test_df[ames_test_df['GarageYrBlt'].isnull() & \n",
    "              (ames_test_df['GarageType'] != 'None')]['GarageYrBlt']\n",
    " .fillna(ames_test_df['GarageYrBlt'].median()))"
   ]
  },
  {
   "cell_type": "code",
   "execution_count": 65,
   "metadata": {
    "collapsed": true
   },
   "outputs": [],
   "source": [
    "ames_train_df['GarageYrBlt'] = ames_train_df['GarageYrBlt'].fillna('None')\n",
    "ames_test_df['GarageYrBlt'] = ames_test_df['GarageYrBlt'].fillna('None')"
   ]
  },
  {
   "cell_type": "code",
   "execution_count": 66,
   "metadata": {
    "scrolled": true
   },
   "outputs": [
    {
     "data": {
      "text/plain": [
       "(0, 0)"
      ]
     },
     "execution_count": 66,
     "metadata": {},
     "output_type": "execute_result"
    }
   ],
   "source": [
    "sum(ames_train_df['GarageYrBlt'].isnull()), sum(ames_test_df['GarageYrBlt'].isnull())"
   ]
  },
  {
   "cell_type": "markdown",
   "metadata": {},
   "source": [
    "#### `GarageFinish` \n",
    "\n",
    "    GarageFinish: Interior finish of the garage\n",
    "\n",
    "           Fin\tFinished\n",
    "           RFn\tRough Finished\t\n",
    "           Unf\tUnfinished\n",
    "           NA\tNo Garage"
   ]
  },
  {
   "cell_type": "code",
   "execution_count": 67,
   "metadata": {
    "scrolled": true
   },
   "outputs": [
    {
     "name": "stdout",
     "output_type": "stream",
     "text": [
      "GarageFinish         object     null values: 81 ['RFn' 'Unf' 'Fin' nan]\n",
      "GarageFinish         object     null values: 78 ['Unf' 'Fin' 'RFn' nan]\n"
     ]
    }
   ],
   "source": [
    "eda.feature_info(ames_train_df, 'GarageFinish')\n",
    "eda.feature_info(ames_test_df, 'GarageFinish')"
   ]
  },
  {
   "cell_type": "code",
   "execution_count": 68,
   "metadata": {
    "collapsed": true
   },
   "outputs": [],
   "source": [
    "ames_train_df['GarageFinish'] = ames_train_df['GarageFinish'].fillna('None')\n",
    "ames_test_df['GarageFinish'] = ames_test_df['GarageFinish'].fillna('None')"
   ]
  },
  {
   "cell_type": "code",
   "execution_count": 69,
   "metadata": {
    "scrolled": false
   },
   "outputs": [
    {
     "data": {
      "text/plain": [
       "<matplotlib.legend.Legend at 0x7f3737ccff98>"
      ]
     },
     "execution_count": 69,
     "metadata": {},
     "output_type": "execute_result"
    },
    {
     "data": {
      "image/png": "[encoded data removed]",
      "text/plain": [
       "<matplotlib.figure.Figure at 0x7f3737ccf7f0>"
      ]
     },
     "metadata": {},
     "output_type": "display_data"
    }
   ],
   "source": [
    "fig = plt.figure(figsize=(6,3))\n",
    "for val in ames_train_df['GarageFinish'].unique():    \n",
    "    sns.distplot(ames_train_df['SalePrice'][ames_train_df['GarageFinish']==val], label=val)\n",
    "plt.legend()"
   ]
  },
  {
   "cell_type": "markdown",
   "metadata": {},
   "source": [
    "#### `GarageQual` \n",
    "\n",
    "    GarageQual: Garage quality\n",
    "\n",
    "           Ex\tExcellent\n",
    "           Gd\tGood\n",
    "           TA\tTypical/Average\n",
    "           Fa\tFair\n",
    "           Po\tPoor\n",
    "           NA\tNo Garage"
   ]
  },
  {
   "cell_type": "code",
   "execution_count": 70,
   "metadata": {
    "scrolled": true
   },
   "outputs": [
    {
     "name": "stdout",
     "output_type": "stream",
     "text": [
      "GarageQual           object     null values: 81 ['TA' 'Fa' 'Gd' nan 'Ex' 'Po']\n",
      "GarageQual           object     null values: 78 ['TA' nan 'Fa' 'Gd' 'Po']\n"
     ]
    }
   ],
   "source": [
    "eda.feature_info(ames_train_df, 'GarageQual')\n",
    "eda.feature_info(ames_test_df, 'GarageQual')"
   ]
  },
  {
   "cell_type": "code",
   "execution_count": 71,
   "metadata": {
    "collapsed": true
   },
   "outputs": [],
   "source": [
    "ames_train_df['GarageQual'] = ames_train_df['GarageQual'].fillna('None')\n",
    "ames_test_df['GarageQual'] = ames_test_df['GarageQual'].fillna('None')"
   ]
  },
  {
   "cell_type": "code",
   "execution_count": 72,
   "metadata": {
    "scrolled": false
   },
   "outputs": [
    {
     "data": {
      "text/plain": [
       "<matplotlib.legend.Legend at 0x7f3737bedf28>"
      ]
     },
     "execution_count": 72,
     "metadata": {},
     "output_type": "execute_result"
    },
    {
     "data": {
      "image/png": "[encoded data removed]",
      "text/plain": [
       "<matplotlib.figure.Figure at 0x7f3737ccff28>"
      ]
     },
     "metadata": {},
     "output_type": "display_data"
    }
   ],
   "source": [
    "fig = plt.figure(figsize=(6,3))\n",
    "for val in ames_train_df['GarageQual'].unique():    \n",
    "    sns.distplot(ames_train_df['SalePrice'][ames_train_df['GarageQual']==val], label=val)\n",
    "plt.legend()"
   ]
  },
  {
   "cell_type": "markdown",
   "metadata": {},
   "source": [
    "#### `GarageCond` \n",
    "\t\t\n",
    "    GarageCond: Garage condition\n",
    "\n",
    "           Ex\tExcellent\n",
    "           Gd\tGood\n",
    "           TA\tTypical/Average\n",
    "           Fa\tFair\n",
    "           Po\tPoor\n",
    "           NA\tNo Garage"
   ]
  },
  {
   "cell_type": "code",
   "execution_count": 73,
   "metadata": {
    "scrolled": true
   },
   "outputs": [
    {
     "name": "stdout",
     "output_type": "stream",
     "text": [
      "GarageCond           object     null values: 81 ['TA' 'Fa' nan 'Gd' 'Po' 'Ex']\n",
      "GarageCond           object     null values: 78 ['TA' nan 'Fa' 'Gd' 'Po' 'Ex']\n"
     ]
    }
   ],
   "source": [
    "eda.feature_info(ames_train_df, 'GarageCond')\n",
    "eda.feature_info(ames_test_df, 'GarageCond')"
   ]
  },
  {
   "cell_type": "code",
   "execution_count": 74,
   "metadata": {
    "collapsed": true
   },
   "outputs": [],
   "source": [
    "ames_train_df['GarageCond'] = ames_train_df['GarageCond'].fillna('None')\n",
    "ames_test_df['GarageCond'] = ames_test_df['GarageCond'].fillna('None')"
   ]
  },
  {
   "cell_type": "code",
   "execution_count": 75,
   "metadata": {
    "scrolled": false
   },
   "outputs": [
    {
     "data": {
      "text/plain": [
       "<matplotlib.legend.Legend at 0x7f3737845eb8>"
      ]
     },
     "execution_count": 75,
     "metadata": {},
     "output_type": "execute_result"
    },
    {
     "data": {
      "image/png": "[encoded data removed]",
      "text/plain": [
       "<matplotlib.figure.Figure at 0x7f37377e3e10>"
      ]
     },
     "metadata": {},
     "output_type": "display_data"
    }
   ],
   "source": [
    "fig = plt.figure(figsize=(6,3))\n",
    "for val in ames_train_df['GarageCond'].unique():    \n",
    "    sns.distplot(ames_train_df['SalePrice'][ames_train_df['GarageCond']==val], label=val)\n",
    "plt.legend()"
   ]
  },
  {
   "cell_type": "markdown",
   "metadata": {},
   "source": [
    "#### `PoolQC` \n",
    "\t\t\n",
    "    PoolQC: Pool quality\n",
    "\n",
    "           Ex\tExcellent\n",
    "           Gd\tGood\n",
    "           TA\tAverage/Typical\n",
    "           Fa\tFair\n",
    "           NA\tNo Pool"
   ]
  },
  {
   "cell_type": "code",
   "execution_count": 76,
   "metadata": {
    "scrolled": true
   },
   "outputs": [
    {
     "name": "stdout",
     "output_type": "stream",
     "text": [
      "PoolQC               object     null values: 1452 [nan 'Ex' 'Fa' 'Gd']\n",
      "PoolQC               object     null values: 1456 [nan 'Ex' 'Gd']\n"
     ]
    }
   ],
   "source": [
    "eda.feature_info(ames_train_df, 'PoolQC')\n",
    "eda.feature_info(ames_test_df, 'PoolQC')"
   ]
  },
  {
   "cell_type": "code",
   "execution_count": 77,
   "metadata": {
    "collapsed": true
   },
   "outputs": [],
   "source": [
    "ames_train_df['PoolQC'] = ames_train_df['PoolQC'].fillna('None')\n",
    "ames_test_df['PoolQC'] = ames_test_df['PoolQC'].fillna('None')"
   ]
  },
  {
   "cell_type": "code",
   "execution_count": 78,
   "metadata": {
    "scrolled": false
   },
   "outputs": [
    {
     "data": {
      "text/plain": [
       "<matplotlib.legend.Legend at 0x7f3737778fd0>"
      ]
     },
     "execution_count": 78,
     "metadata": {},
     "output_type": "execute_result"
    },
    {
     "data": {
      "image/png": "[encoded data removed]",
      "text/plain": [
       "<matplotlib.figure.Figure at 0x7f37375a00f0>"
      ]
     },
     "metadata": {},
     "output_type": "display_data"
    }
   ],
   "source": [
    "fig = plt.figure(figsize=(6,3))\n",
    "for val in ames_train_df['PoolQC'].unique():    \n",
    "    sns.distplot(ames_train_df['SalePrice'][ames_train_df['PoolQC']==val], label=val)\n",
    "plt.legend()"
   ]
  },
  {
   "cell_type": "markdown",
   "metadata": {},
   "source": [
    "#### `Fence` \n",
    "\t\t\n",
    "    Fence: Fence quality\n",
    "\n",
    "           GdPrv\tGood Privacy\n",
    "           MnPrv\tMinimum Privacy\n",
    "           GdWo\tGood Wood\n",
    "           MnWw\tMinimum Wood/Wire\n",
    "           NA\tNo Fence\n"
   ]
  },
  {
   "cell_type": "code",
   "execution_count": 79,
   "metadata": {
    "scrolled": true
   },
   "outputs": [
    {
     "name": "stdout",
     "output_type": "stream",
     "text": [
      "Fence                object     null values: 1178 [nan 'MnPrv' 'GdWo' 'GdPrv' 'MnWw']\n",
      "Fence                object     null values: 1169 ['MnPrv' nan 'GdPrv' 'GdWo' 'MnWw']\n"
     ]
    }
   ],
   "source": [
    "eda.feature_info(ames_train_df, 'Fence')\n",
    "eda.feature_info(ames_test_df, 'Fence')"
   ]
  },
  {
   "cell_type": "code",
   "execution_count": 80,
   "metadata": {
    "collapsed": true
   },
   "outputs": [],
   "source": [
    "ames_train_df['Fence'] = ames_train_df['Fence'].fillna('None')\n",
    "ames_test_df['Fence'] = ames_test_df['Fence'].fillna('None')"
   ]
  },
  {
   "cell_type": "code",
   "execution_count": 81,
   "metadata": {
    "scrolled": false
   },
   "outputs": [
    {
     "data": {
      "text/plain": [
       "<matplotlib.legend.Legend at 0x7f37373f4a58>"
      ]
     },
     "execution_count": 81,
     "metadata": {},
     "output_type": "execute_result"
    },
    {
     "data": {
      "image/png": "[encoded data removed]",
      "text/plain": [
       "<matplotlib.figure.Figure at 0x7f37373deeb8>"
      ]
     },
     "metadata": {},
     "output_type": "display_data"
    }
   ],
   "source": [
    "fig = plt.figure(figsize=(6,3))\n",
    "for val in ames_train_df['Fence'].unique():    \n",
    "    sns.distplot(ames_train_df['SalePrice'][ames_train_df['Fence']==val], label=val)\n",
    "plt.legend()"
   ]
  },
  {
   "cell_type": "markdown",
   "metadata": {},
   "source": [
    "#### `MiscFeature` \n",
    "\t\t\n",
    "    MiscFeature: Miscellaneous feature not covered in other categories"
   ]
  },
  {
   "cell_type": "code",
   "execution_count": 82,
   "metadata": {
    "scrolled": true
   },
   "outputs": [
    {
     "name": "stdout",
     "output_type": "stream",
     "text": [
      "MiscFeature          object     null values: 1405 [nan 'Shed' 'Gar2' 'Othr' 'TenC']\n",
      "MiscFeature          object     null values: 1408 [nan 'Gar2' 'Shed' 'Othr']\n"
     ]
    }
   ],
   "source": [
    "eda.feature_info(ames_train_df, 'MiscFeature')\n",
    "eda.feature_info(ames_test_df, 'MiscFeature')"
   ]
  },
  {
   "cell_type": "code",
   "execution_count": 83,
   "metadata": {
    "collapsed": true
   },
   "outputs": [],
   "source": [
    "ames_train_df['MiscFeature'] = ames_train_df['MiscFeature'].fillna('None')\n",
    "ames_test_df['MiscFeature'] = ames_test_df['MiscFeature'].fillna('None')"
   ]
  },
  {
   "cell_type": "code",
   "execution_count": 84,
   "metadata": {},
   "outputs": [
    {
     "data": {
      "text/html": [
       "<div>\n",
       "<table border=\"1\" class=\"dataframe\">\n",
       "  <thead>\n",
       "    <tr style=\"text-align: right;\">\n",
       "      <th></th>\n",
       "      <th>MSSubClass</th>\n",
       "      <th>MSZoning</th>\n",
       "      <th>LotFrontage</th>\n",
       "      <th>LotArea</th>\n",
       "      <th>Street</th>\n",
       "      <th>Alley</th>\n",
       "      <th>LotShape</th>\n",
       "      <th>LandContour</th>\n",
       "      <th>Utilities</th>\n",
       "      <th>LotConfig</th>\n",
       "      <th>...</th>\n",
       "      <th>MiscVal</th>\n",
       "      <th>MoSold</th>\n",
       "      <th>YrSold</th>\n",
       "      <th>SaleType</th>\n",
       "      <th>SaleCondition</th>\n",
       "      <th>SalePrice</th>\n",
       "      <th>MasVnrType_1</th>\n",
       "      <th>MasVnrType_2</th>\n",
       "      <th>MasVnrArea_1</th>\n",
       "      <th>MasVnrArea_2</th>\n",
       "    </tr>\n",
       "    <tr>\n",
       "      <th>Id</th>\n",
       "      <th></th>\n",
       "      <th></th>\n",
       "      <th></th>\n",
       "      <th></th>\n",
       "      <th></th>\n",
       "      <th></th>\n",
       "      <th></th>\n",
       "      <th></th>\n",
       "      <th></th>\n",
       "      <th></th>\n",
       "      <th></th>\n",
       "      <th></th>\n",
       "      <th></th>\n",
       "      <th></th>\n",
       "      <th></th>\n",
       "      <th></th>\n",
       "      <th></th>\n",
       "      <th></th>\n",
       "      <th></th>\n",
       "      <th></th>\n",
       "      <th></th>\n",
       "    </tr>\n",
       "  </thead>\n",
       "  <tbody>\n",
       "    <tr>\n",
       "      <th>1387</th>\n",
       "      <td>60</td>\n",
       "      <td>RL</td>\n",
       "      <td>80.0</td>\n",
       "      <td>16692</td>\n",
       "      <td>Pave</td>\n",
       "      <td>None</td>\n",
       "      <td>IR1</td>\n",
       "      <td>Lvl</td>\n",
       "      <td>AllPub</td>\n",
       "      <td>Inside</td>\n",
       "      <td>...</td>\n",
       "      <td>2000</td>\n",
       "      <td>7</td>\n",
       "      <td>2006</td>\n",
       "      <td>WD</td>\n",
       "      <td>Normal</td>\n",
       "      <td>250000</td>\n",
       "      <td>BrkFace</td>\n",
       "      <td>BrkFace</td>\n",
       "      <td>184.0</td>\n",
       "      <td>184.0</td>\n",
       "    </tr>\n",
       "  </tbody>\n",
       "</table>\n",
       "<p>1 rows × 82 columns</p>\n",
       "</div>"
      ],
      "text/plain": [
       "     MSSubClass MSZoning  LotFrontage  LotArea Street Alley LotShape  \\\n",
       "Id                                                                     \n",
       "1387         60       RL         80.0    16692   Pave  None      IR1   \n",
       "\n",
       "     LandContour Utilities LotConfig      ...      MiscVal MoSold YrSold  \\\n",
       "Id                                        ...                              \n",
       "1387         Lvl    AllPub    Inside      ...         2000      7   2006   \n",
       "\n",
       "     SaleType SaleCondition SalePrice  MasVnrType_1  MasVnrType_2  \\\n",
       "Id                                                                  \n",
       "1387       WD        Normal    250000       BrkFace       BrkFace   \n",
       "\n",
       "      MasVnrArea_1  MasVnrArea_2  \n",
       "Id                                \n",
       "1387         184.0         184.0  \n",
       "\n",
       "[1 rows x 82 columns]"
      ]
     },
     "execution_count": 84,
     "metadata": {},
     "output_type": "execute_result"
    }
   ],
   "source": [
    "ames_train_df[ames_train_df['MiscFeature']=='TenC']"
   ]
  },
  {
   "cell_type": "code",
   "execution_count": 85,
   "metadata": {
    "scrolled": true
   },
   "outputs": [
    {
     "data": {
      "text/plain": [
       "<matplotlib.legend.Legend at 0x7f37372eeef0>"
      ]
     },
     "execution_count": 85,
     "metadata": {},
     "output_type": "execute_result"
    },
    {
     "data": {
      "image/png": "[encoded data removed]",
      "text/plain": [
       "<matplotlib.figure.Figure at 0x7f37372767f0>"
      ]
     },
     "metadata": {},
     "output_type": "display_data"
    }
   ],
   "source": [
    "fig = plt.figure(figsize=(6,3))\n",
    "misc = list(ames_train_df['MiscFeature'].unique())\n",
    "misc.remove('TenC')\n",
    "for val in misc: \n",
    "    sns.distplot(ames_train_df['SalePrice'][ames_train_df['MiscFeature']==val], label=val)\n",
    "plt.legend()"
   ]
  },
  {
   "cell_type": "code",
   "execution_count": 86,
   "metadata": {
    "collapsed": true
   },
   "outputs": [],
   "source": [
    "for col in ames_train_df.columns:\n",
    "    null_train_values = sum(ames_train_df[col].isnull())\n",
    "    if col in ames_test_df.columns: \n",
    "        null_test_values = sum(ames_test_df[col].isnull())\n",
    "    else:\n",
    "        null_test_values = 0\n",
    "    if null_train_values > 0: print(\"{:20} {:10} null values: {:6} null test values: {}\"\n",
    "                              .format(col, str(ames_train_df[col].dtype), null_train_values, null_test_values))"
   ]
  },
  {
   "cell_type": "code",
   "execution_count": 87,
   "metadata": {
    "collapsed": true
   },
   "outputs": [],
   "source": [
    "ames_train_df.to_pickle('data/train_df.p')\n",
    "ames_test_df.to_pickle('data/test_df.p')"
   ]
  },
  {
   "cell_type": "code",
   "execution_count": null,
   "metadata": {
    "collapsed": true
   },
   "outputs": [],
   "source": []
  }
 ],
 "metadata": {
  "kernelspec": {
   "display_name": "Python 3",
   "language": "python",
   "name": "python3"
  },
  "language_info": {
   "codemirror_mode": {
    "name": "ipython",
    "version": 3
   },
   "file_extension": ".py",
   "mimetype": "text/x-python",
   "name": "python",
   "nbconvert_exporter": "python",
   "pygments_lexer": "ipython3",
   "version": "3.6.2"
  }
 },
 "nbformat": 4,
 "nbformat_minor": 1
}
